{
  "nbformat": 4,
  "nbformat_minor": 0,
  "metadata": {
    "colab": {
      "provenance": [],
      "authorship_tag": "ABX9TyOhi2TpfetehTVNF5Qc+E1L",
      "include_colab_link": true
    },
    "kernelspec": {
      "name": "python3",
      "display_name": "Python 3"
    },
    "language_info": {
      "name": "python"
    }
  },
  "cells": [
    {
      "cell_type": "markdown",
      "metadata": {
        "id": "view-in-github",
        "colab_type": "text"
      },
      "source": [
        "<a href=\"https://colab.research.google.com/github/JosueAripez/Lenguaje-de-Python/blob/main/Actividad8.ipynb\" target=\"_parent\"><img src=\"https://colab.research.google.com/assets/colab-badge.svg\" alt=\"Open In Colab\"/></a>"
      ]
    },
    {
      "cell_type": "markdown",
      "source": [
        "#**ENCABEZADOS**"
      ],
      "metadata": {
        "id": "lTndxSCOFHOP"
      }
    },
    {
      "cell_type": "code",
      "execution_count": 39,
      "metadata": {
        "id": "eNj1qRu69n6b"
      },
      "outputs": [],
      "source": [
        "import random\n",
        "from IPython.display import clear_output"
      ]
    },
    {
      "cell_type": "code",
      "source": [
        "def validar(ri=0,rf=100,msge=\"Dame un numero \",msgError1=\"Error en el rango\",msgError2=\"Error de captura \"):\n",
        "  while True:\n",
        "    try:\n",
        "      num = int(input(f\"{msge} {ri} , {rf} : \"))\n",
        "    except:\n",
        "      print (msgError2)\n",
        "      continue\n",
        "    if num < ri or num > rf:\n",
        "      print (msgError1)\n",
        "      continue\n",
        "    return num"
      ],
      "metadata": {
        "id": "tLcvqCPzCVvI"
      },
      "execution_count": 40,
      "outputs": []
    },
    {
      "cell_type": "markdown",
      "source": [
        "#**JUEGO 1**"
      ],
      "metadata": {
        "id": "tOxEccF-EdYP"
      }
    },
    {
      "cell_type": "code",
      "source": [
        "def genera(ri,rf):\n",
        "  from random import randint\n",
        "  num = randint(ri,rf)\n",
        "  return num"
      ],
      "metadata": {
        "id": "3L0QDkGODenq"
      },
      "execution_count": 41,
      "outputs": []
    },
    {
      "cell_type": "code",
      "source": [
        "def adivina_numero():\n",
        "  NumOculto=genera(1,10)\n",
        "  \n",
        "  i=0\n",
        "  while i<3:\n",
        "    NumJugador=validar(1,10,\"Dame un numero entre el 1 y 10: \")\n",
        "    if NumOculto == NumJugador:\n",
        "      break \n",
        "    else:\n",
        "      print (\"Intentalo de nuevo \")\n",
        "      i=i+1\n",
        "\n",
        "  if NumOculto == NumJugador:\n",
        "    print (\"Has adivinado el numero secreto\")\n",
        "  else:\n",
        "    print (\"Lo siento has agotado tus oportunidades \")\n"
      ],
      "metadata": {
        "id": "HNI3FLZYDpS5"
      },
      "execution_count": 42,
      "outputs": []
    },
    {
      "cell_type": "markdown",
      "source": [
        "#**JUEGO 2**"
      ],
      "metadata": {
        "id": "e88t6lcyEq5J"
      }
    },
    {
      "cell_type": "markdown",
      "source": [
        "# #1"
      ],
      "metadata": {
        "id": "_Yfa7mVlCVfv"
      }
    },
    {
      "cell_type": "code",
      "source": [
        "def generar_lista_uno():\n",
        "    numeros = []\n",
        "    while len(numeros) < 10:\n",
        "        num = random.randint(1, 10)\n",
        "        if num not in numeros:\n",
        "            numeros.append(num)\n",
        "    return numeros"
      ],
      "metadata": {
        "id": "0N_va8CtKya3"
      },
      "execution_count": 43,
      "outputs": []
    },
    {
      "cell_type": "code",
      "source": [
        "def busca_numero_uno():\n",
        "    numeros = generar_lista_uno()\n",
        "    num_a_adivinar = random.choice(numeros)\n",
        "    intentos = 3\n",
        "  \n",
        "    while intentos > 0:\n",
        "        print(\"Adivina en que indice se encuentra el numero\", num_a_adivinar)\n",
        "        indice = int(input(\"Ingresa un numero del 0 al 9: \")) - 1\n",
        "        if numeros[indice] == num_a_adivinar:\n",
        "            print(\"Ganaste \")\n",
        "            break\n",
        "        else:\n",
        "            intentos -= 1\n",
        "            if intentos > 0:\n",
        "                print(\"No es el numero correcto, tienes\", intentos, \"intento (s)\")\n",
        "            else:\n",
        "                print(\"Perdiste el numero estaba en el índice\", numeros.index(num_a_adivinar))\n",
        "    \n",
        "    play = input(\"Quieres seguir jugando? (s/n) \")\n",
        "    if play == 's':\n",
        "        busca_numero_uno()"
      ],
      "metadata": {
        "id": "C_ss3zVGCM0T"
      },
      "execution_count": 59,
      "outputs": []
    },
    {
      "cell_type": "markdown",
      "source": [
        "# #2"
      ],
      "metadata": {
        "id": "c2KDIUN9Clpd"
      }
    },
    {
      "cell_type": "code",
      "source": [
        "def generar_lista_dos():\n",
        "    lista = random.sample(range(1, 11), 10)\n",
        "    return lista"
      ],
      "metadata": {
        "id": "-hFHxHG2LRY2"
      },
      "execution_count": 47,
      "outputs": []
    },
    {
      "cell_type": "code",
      "source": [
        "def busca_numero_dos():\n",
        "    lista = generar_lista_dos()\n",
        "    numero_aleatorio = random.choice(lista)\n",
        "    intentos = 3\n",
        "    \n",
        "    while intentos > 0:\n",
        "        print(\"Adivina en que indice esta el numero aleatorio.\")\n",
        "        indice = int(input(\"Ingresa un número entre 0 y 9: \"))\n",
        "        if indice < 0 or indice > 9:\n",
        "            print(\"Numero invalido, intente de nuevo\")\n",
        "            continue\n",
        "\n",
        "        if lista[indice] == numero_aleatorio:\n",
        "            print(\"Ganaste, el numero estaba en el indice\", indice)\n",
        "            return\n",
        "        else:\n",
        "            intentos -= 1\n",
        "            if intentos == 0:\n",
        "                print(\"Perdiste, el numero estaba en \", numero_aleatorio)\n",
        "            else:\n",
        "                print(\"No es el numero correcto, tienes\", intentos, \"intento (s)\")\n",
        "    \n",
        "    play = input(\"Quieres seguir jugando? (s/n) \")\n",
        "    if play == 's':\n",
        "        busca_numero_dos()"
      ],
      "metadata": {
        "id": "L5EM3J20QNdB"
      },
      "execution_count": 48,
      "outputs": []
    },
    {
      "cell_type": "markdown",
      "source": [
        "# #3"
      ],
      "metadata": {
        "id": "k5cKCd6zLXzS"
      }
    },
    {
      "cell_type": "code",
      "source": [
        "def generar_lista_aleatoria_tres():\n",
        "    numeros = list(range(1, 11)) \n",
        "    random.shuffle(numeros) \n",
        "    return numeros"
      ],
      "metadata": {
        "id": "HetgtiKfLaD5"
      },
      "execution_count": 52,
      "outputs": []
    },
    {
      "cell_type": "code",
      "source": [
        "def busca_numero_tres():\n",
        "    numeros = generar_lista_aleatoria_tres()\n",
        "    numero_aleatorio = random.choice(numeros)\n",
        "    intentos = 3\n",
        "    \n",
        "    while intentos > 0:\n",
        "        print(f\"Adivina en que indice se encuntra el numero {numero_aleatorio}\")\n",
        "        indice = int(input(\"Ingresa un numero del 0 al 9: \"))\n",
        "        \n",
        "        if numeros[indice] == numero_aleatorio:\n",
        "            print(\"Ganaste\")\n",
        "            break\n",
        "        else:\n",
        "            intentos -= 1\n",
        "            if intentos == 0:\n",
        "                print(f\"Perdiste, el numero estaba en {numero_aleatorio}\")\n",
        "            else:\n",
        "                print(f\"Vuelve a intentarlo te quedan {intentos} intento (s)\")\n",
        "\n",
        "    play = input(\"Quieres seguir jugando? (s/n) \")\n",
        "    if play == 's':\n",
        "        busca_numero_tres()"
      ],
      "metadata": {
        "id": "t9ZAkniIS8zt"
      },
      "execution_count": 55,
      "outputs": []
    },
    {
      "cell_type": "markdown",
      "source": [
        "# **MENU**"
      ],
      "metadata": {
        "id": "-9hwQ0dbLMKy"
      }
    },
    {
      "cell_type": "code",
      "source": [
        "def menu():\n",
        "  print(\"J U E G O S \")\n",
        "  print(\"1.- Adivina Numero \")\n",
        "  print(\"2.- Busca Numero Ver: 0.1 \")\n",
        "  print(\"3.- Busca Numero Ver: 0.2 \")\n",
        "  print(\"4.- Busca Numero Ver: 0.3 \")\n",
        "  print(\"0.- Salir\")"
      ],
      "metadata": {
        "id": "tXv1-u-OKlBE"
      },
      "execution_count": 34,
      "outputs": []
    },
    {
      "cell_type": "code",
      "source": [
        "while True:\n",
        "    menu()\n",
        "    op = int(input(\"Ingresa un numero segun lo que deseas hacer \"))\n",
        "    if op == 1:\n",
        "        \n",
        "        adivina_numero()\n",
        "        input(\"Presiona Enter para borrar \")\n",
        "        clear_output()\n",
        "        continue\n",
        "  \n",
        "    elif op == 2:\n",
        "        busca_numero_uno()\n",
        "        input(\"Presiona Enter para borrar \")\n",
        "        clear_output()\n",
        "        continue\n",
        "    \n",
        "    elif op == 3:\n",
        "        busca_numero_dos()\n",
        "        input(\"Presiona Enter para borrar \")\n",
        "        clear_output()\n",
        "        continue\n",
        "  \n",
        "    elif op == 4:\n",
        "        busca_numero_tres()\n",
        "        input(\"Presiona Enter para borrar \")\n",
        "        clear_output()\n",
        "        continue\n",
        "    \n",
        "    elif op == 0:\n",
        "        break"
      ],
      "metadata": {
        "colab": {
          "base_uri": "https://localhost:8080/"
        },
        "id": "JXVAmT7xKqbc",
        "outputId": "32700b27-4e85-4aef-a4be-1665d40c6a0a"
      },
      "execution_count": 60,
      "outputs": [
        {
          "name": "stdout",
          "output_type": "stream",
          "text": [
            "J U E G O S \n",
            "1.- Adivina Numero \n",
            "2.- Busca Numero Ver: 0.1 \n",
            "3.- Busca Numero Ver: 0.2 \n",
            "4.- Busca Numero Ver: 0.3 \n",
            "0.- Salir\n",
            "Ingresa un numero segun lo que deseas hacer 0\n"
          ]
        }
      ]
    }
  ]
}