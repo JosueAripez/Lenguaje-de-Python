{
  "nbformat": 4,
  "nbformat_minor": 0,
  "metadata": {
    "colab": {
      "provenance": [],
      "authorship_tag": "ABX9TyMaWhMDKGVi+erLQNWnmR33",
      "include_colab_link": true
    },
    "kernelspec": {
      "name": "python3",
      "display_name": "Python 3"
    },
    "language_info": {
      "name": "python"
    }
  },
  "cells": [
    {
      "cell_type": "markdown",
      "metadata": {
        "id": "view-in-github",
        "colab_type": "text"
      },
      "source": [
        "<a href=\"https://colab.research.google.com/github/JosueAripez/Lenguaje-de-Python/blob/main/Actividad3.ipynb\" target=\"_parent\"><img src=\"https://colab.research.google.com/assets/colab-badge.svg\" alt=\"Open In Colab\"/></a>"
      ]
    },
    {
      "cell_type": "markdown",
      "source": [
        "# **Josue Francisco Rojas Aripez**\n",
        "# **Actividad #3**"
      ],
      "metadata": {
        "id": "o6kuOAb0GIjH"
      }
    },
    {
      "cell_type": "markdown",
      "source": [
        "#1.- Algoritmo que lea 3 calificaciones calcule el promedio del alumno y desplegar: \n",
        "\n",
        "#Si prom < 30 Repetir \n",
        "\n",
        "#Si prom >=30 y prom <60 extraordinario \n",
        "\n",
        "#Si prom >=60 y prom <70 suficiente \n",
        "\n",
        "#Si prom >=70 y prom <80 Regular \n",
        "\n",
        "#Si prom >=80 y prom <90 bien \n",
        "\n",
        "#Si prom >=90 y prom <98 muy bien \n",
        "\n",
        "#Si prom >=98 y prom <=100 excelente \n",
        "\n",
        "#Si prom >100 Error en promedio "
      ],
      "metadata": {
        "id": "0ZpwNHtl5KHP"
      }
    },
    {
      "cell_type": "code",
      "source": [
        "cal1 = int(input(\"Ingresa la calificacion 1: \"))\n",
        "cal2 = int(input(\"Ingresa la calificacion 2: \"))\n",
        "cal3 = int(input(\"Ingresa la calificacion 3: \"))\n",
        "\n",
        "promedio = (cal1 + cal2 + cal3) / 3\n",
        "\n",
        "if promedio < 30:\n",
        "    print(\"Repetir\")\n",
        "elif promedio < 60:\n",
        "    print(\"Extraordinario\")\n",
        "elif promedio < 70:\n",
        "    print(\"Suficiente\")\n",
        "elif promedio < 80:\n",
        "    print(\"Regular\")\n",
        "elif promedio < 90:\n",
        "    print(\"Bien\")\n",
        "elif promedio < 98:\n",
        "    print(\"Muy bien\")\n",
        "elif promedio <= 100:\n",
        "    print(\"Excelente\")\n",
        "else:\n",
        "    print(\"Error en promedio\")"
      ],
      "metadata": {
        "colab": {
          "base_uri": "https://localhost:8080/"
        },
        "id": "X-KDaid25Wz9",
        "outputId": "e2563f60-3519-4576-bdd5-d6f1146d3e06"
      },
      "execution_count": 54,
      "outputs": [
        {
          "output_type": "stream",
          "name": "stdout",
          "text": [
            "Ingresa la calificacion 1: 70\n",
            "Ingresa la calificacion 2: 70\n",
            "Ingresa la calificacion 3: 70\n",
            "Regular\n"
          ]
        }
      ]
    },
    {
      "cell_type": "markdown",
      "source": [
        "# 2.- Algoritmo que sirva para calcular el salario semanal de un trabajador donde se obtiene como dato de entrada las horas semanales trabajadas, el salario por hora. \n",
        "\n",
        "#El programa deberá calcular el salario normal, salario extra y salario total, considerando lo siguiente: \n",
        "\n",
        "#Jornada Normal de 40 horas. \n",
        "#El salario normal se considera las horas trabajadas menores o igual a la jornada normal\n",
        "#Salario extra se considera las horas trabajadas mayores a la jornada normal y se pagan dobles las primeras 9 y triples a partir de la décima hora extra "
      ],
      "metadata": {
        "id": "xS8ojlCA9QlD"
      }
    },
    {
      "cell_type": "code",
      "source": [
        "horas_trabajadas = int(input(\"Ingresa las horas trabajadas en la semana: \"))\n",
        "salario_hora = float(input(\"Ingresa el salario por hora: \"))\n",
        "\n",
        "jornada_normal = 40\n",
        "salario_normal = 0\n",
        "salario_extra = 0\n",
        "salario_total = 0\n",
        "\n",
        "if horas_trabajadas <= jornada_normal:\n",
        "    salario_normal = horas_trabajadas * salario_hora\n",
        "else:\n",
        "    horas_normales = jornada_normal * salario_hora\n",
        "    horas_extra = horas_trabajadas - jornada_normal\n",
        "    \n",
        "    if horas_extra <= 9:\n",
        "        salario_extra = horas_extra * salario_hora * 2\n",
        "    else:\n",
        "        salario_extra = (9 * salario_hora * 2) + ((horas_extra - 9) * salario_hora * 3)\n",
        "    salario_normal = horas_normales\n",
        "\n",
        "salario_total = salario_normal + salario_extra\n",
        "\n",
        "print(\"Salario por hora: \", salario_hora)\n",
        "print(\"Horas trabajadas: \", horas_trabajadas)\n",
        "print(\"Salario normal: \", salario_normal)\n",
        "print(\"Salario extra: \", salario_extra)\n",
        "print(\"Salario total: \", salario_total)\n"
      ],
      "metadata": {
        "colab": {
          "base_uri": "https://localhost:8080/"
        },
        "id": "PirH_TZM9dEW",
        "outputId": "ad6e48c0-e0a4-471f-cbe1-fb6b5241bee2"
      },
      "execution_count": 55,
      "outputs": [
        {
          "output_type": "stream",
          "name": "stdout",
          "text": [
            "Ingresa las horas trabajadas en la semana: 40\n",
            "Ingresa el salario por hora: 20\n",
            "Salario por hora:  20.0\n",
            "Horas trabajadas:  40\n",
            "Salario normal:  800.0\n",
            "Salario extra:  0\n",
            "Salario total:  800.0\n"
          ]
        }
      ]
    },
    {
      "cell_type": "markdown",
      "source": [
        "#3.- Algoritmo que sirva para desplegar el Total de una llamada telefónica donde se pide como datos de entrada los minutos y el tipo de llamada, se cobra de la siguiente manera:\n",
        "\n",
        "#1.- Llamada Local $3.00 sin límite de tiempo \n",
        "\n",
        "#2.- Llamada Nacional 7.00 por los 3 primeros minutos y  $2.00 minuto adicional \n",
        "\n",
        "#3.- Llamada Internacional 9.00 por los 2 primeros minutos y $4.00 minuto adicional\n",
        "\n",
        "#Desplegar, Subtotal,Iva (16%) y Total."
      ],
      "metadata": {
        "id": "9BSZr3OIFBYM"
      }
    },
    {
      "cell_type": "code",
      "source": [
        "minutos = int(input(\"Ingresa la cantidad de minutos de la llamada: \"))\n",
        "tipo_llamada = int(input(\"Selecciona el tipo de llamada por el numero: 1)Local 2)Nacional 3)Internacional: \"))\n",
        "\n",
        "if tipo_llamada == 1:\n",
        "    costo = 3.00\n",
        "elif tipo_llamada == 2:\n",
        "    if minutos <= 3:\n",
        "        costo = 7.00\n",
        "    else:\n",
        "        costo = 7.00 + (minutos - 3) * 2.00\n",
        "else:\n",
        "    if minutos <= 2:\n",
        "        costo = 9.00\n",
        "    else:\n",
        "        costo = 9.00 + (minutos - 2) * 4.00\n",
        "\n",
        "subtotal = costo\n",
        "iva = subtotal * 0.16\n",
        "total = subtotal + iva\n",
        "\n",
        "print(\"El subtotal: ${:.2f}\".format(subtotal))\n",
        "print(\"IVA (16%): ${:.2f}\".format(iva))\n",
        "print(\"Su total: ${:.2f}\".format(total))\n"
      ],
      "metadata": {
        "id": "5QMhhqfyG40X",
        "colab": {
          "base_uri": "https://localhost:8080/"
        },
        "outputId": "066bf00f-c6c4-4806-bdb2-e2d21a508727"
      },
      "execution_count": 56,
      "outputs": [
        {
          "output_type": "stream",
          "name": "stdout",
          "text": [
            "Ingresa la cantidad de minutos de la llamada: 20\n",
            "Selecciona el tipo de llamada por el numero: 1)Local 2)Nacional 3)Internacional: 2\n",
            "El subtotal: $41.00\n",
            "IVA (16%): $6.56\n",
            "Su total: $47.56\n"
          ]
        }
      ]
    },
    {
      "cell_type": "markdown",
      "source": [
        "# 4.- Algoritmo que sirva para calcular el Total a pagar por consumo de agua, donde el dato de entrada son los M3 de agua consumidos, Tomar en cuenta que se cobra escalonada de la Siguiente manera: \n",
        "\n",
        "#Rango1: 0 al 4 M3 $50 x facturación sin importar cuánto consumió en este rango \n",
        "\n",
        "#Rango2: 5 a 15 M3 $8.00 x M3 \n",
        "\n",
        "#Rango3: 16 a 50 M3 $10.00 x M3 \n",
        "\n",
        "#Rango4: 51 M3 en adelante $11.00 x M3 \n",
        "\n",
        "#Nota: Desplegar SubTotal, Iva(16%), y Total a pagar.\n",
        "\n"
      ],
      "metadata": {
        "id": "_NAN2GhxxWzY"
      }
    },
    {
      "cell_type": "code",
      "source": [
        "m3_consumidos = float(input(\"Ingresa la cantidad de M3 consumidos: \"))\n",
        "\n",
        "if m3_consumidos <= 4:\n",
        "    subtotal = 50\n",
        "elif m3_consumidos <= 15:\n",
        "    subtotal = 50 + ((m3_consumidos - 4) * 8)\n",
        "elif m3_consumidos <= 50:\n",
        "    subtotal = 50 + (11 * 8) + ((m3_consumidos - 15) * 10)\n",
        "else:\n",
        "    subtotal = 50 + (11 * 8) + (35 * 10) + ((m3_consumidos - 50) * 11)\n",
        "\n",
        "iva = subtotal * 0.16\n",
        "total = subtotal + iva\n",
        "\n",
        "print(\"Subtotal: $\", subtotal)\n",
        "print(\"IVA (16%): $\", iva)\n",
        "print(\"Total a pagar: $\", total)\n"
      ],
      "metadata": {
        "colab": {
          "base_uri": "https://localhost:8080/"
        },
        "id": "kbYws48CxhQZ",
        "outputId": "d5868e24-94b0-4046-ad7a-76c40f8489ca"
      },
      "execution_count": 57,
      "outputs": [
        {
          "output_type": "stream",
          "name": "stdout",
          "text": [
            "Ingresa la cantidad de M3 consumidos: 50\n",
            "Subtotal: $ 488.0\n",
            "IVA (16%): $ 78.08\n",
            "Total a pagar: $ 566.08\n"
          ]
        }
      ]
    },
    {
      "cell_type": "markdown",
      "source": [
        "#5- En la materia de Metodología de la programación se aplican 5 exámenes, calcular el promedio final de la materia donde la calificación menor de los exámenes se anula y el promedio se calcula en base a 4 exámenes.\n",
        "\n",
        "#Desplegar el promedio final. "
      ],
      "metadata": {
        "id": "Pqb_sYwYzOjl"
      }
    },
    {
      "cell_type": "code",
      "source": [],
      "metadata": {
        "id": "2wrOGYEvzUVn"
      },
      "execution_count": null,
      "outputs": []
    },
    {
      "cell_type": "markdown",
      "source": [
        "#6.- Algoritmo que sirva para el juego del CHINCHAMPU (Piedra, Papel, Tijera) para 1 jugador y la computadora, (usar condición anidada) "
      ],
      "metadata": {
        "id": "WlGhQIvb18NA"
      }
    },
    {
      "cell_type": "code",
      "source": [
        "import random\n",
        "opciones = [\"Piedra\", \"Papel\", \"Tijera\"]\n",
        "\n",
        "jugador = int(input(\"Ingresa tu opción 1)Piedra 2)Papel 3)Tijera\\n \"))\n",
        "\n",
        "opcion_computadora = random.randint(1, 3)\n",
        "\n",
        "print(\"Usaste : \", opciones[jugador - 1])\n",
        "print(\"La computadora Uso: \", opciones[opcion_computadora - 1])\n",
        "\n",
        "if jugador == opcion_computadora:\n",
        "    print(\"Empate \")\n",
        "elif jugador == 1 and opcion_computadora == 3 or jugador == 2 and opcion_computadora == 1 or jugador == 3 and opcion_computadora == 2:\n",
        "    print(\"Ganaste \")\n",
        "else:\n",
        "    print(\"Perdiste \")"
      ],
      "metadata": {
        "id": "wnlNhxHw2UBC",
        "colab": {
          "base_uri": "https://localhost:8080/"
        },
        "outputId": "b7c81470-f65b-4818-c2c5-a1f497808a8e"
      },
      "execution_count": 58,
      "outputs": [
        {
          "output_type": "stream",
          "name": "stdout",
          "text": [
            "Ingresa tu opción 1)Piedra 2)Papel 3)Tijera\n",
            " 1\n",
            "Usaste :  Piedra\n",
            "La computadora Uso:  Papel\n",
            "Perdiste \n"
          ]
        }
      ]
    },
    {
      "cell_type": "markdown",
      "source": [
        "#7.- Algoritmo que sirva para el juego del CHINCHAMPU (Piedra, Papel, Tijera) para 1 jugador y la computadora, (usar selección múltiple) "
      ],
      "metadata": {
        "id": "AHHA3New6XRy"
      }
    },
    {
      "cell_type": "code",
      "source": [
        "import random\n",
        "opciones = [\"Piedra\", \"Papel\", \"Tijera\"]\n",
        "\n",
        "jugador = int(input(\"Ingresa tu opción 1)Piedra 2)Papel 3)Tijera\\n \"))\n",
        "\n",
        "opcion_computadora = random.randint(1, 3)\n",
        "\n",
        "print(\"Usaste : \", opciones[jugador - 1])\n",
        "print(\"La computadora Uso: \", opciones[opcion_computadora - 1])\n",
        "\n",
        "if jugador == opcion_computadora:\n",
        "    print(\"Empate \")\n",
        "elif jugador == 1 and opcion_computadora == 3 or jugador == 2 and opcion_computadora == 1 or jugador == 3 and opcion_computadora == 2:\n",
        "    print(\"Ganaste \")\n",
        "else:\n",
        "    print(\"Perdiste \")"
      ],
      "metadata": {
        "colab": {
          "base_uri": "https://localhost:8080/"
        },
        "id": "Bg9zx1x56a--",
        "outputId": "f7f8d728-0d4c-40a3-a18a-a557e40c5041"
      },
      "execution_count": null,
      "outputs": [
        {
          "output_type": "stream",
          "name": "stdout",
          "text": [
            "Ingresa tu opción 1)Piedra 2)Papel 3)Tijera\n",
            " 1\n",
            "Usaste :  Piedra\n",
            "La computadora Uso:  Papel\n",
            "¡Perdiste!\n"
          ]
        }
      ]
    },
    {
      "cell_type": "markdown",
      "source": [
        "#8.- Una tienda de electrónica ofrece descuentos a sus clientes, dependiendo del tipo de producto que compren. Si el cliente compra una computadora, tiene un descuento del 5% en el precio de la computadora y un 10% de descuento en una impresora si la compra junto con la computadora. Si el cliente compra una televisión, tiene un descuento del 7% en el precio de la televisión y un 15% de descuento en una barra de sonido si la compra junto con la televisión. Si el cliente compra una consola de videojuegos, tiene un descuento del 10% en el precio de la consola y un 20% de descuento en un juego si lo compra junto con la consola. Escribe un programa que calcule el precio a pagar por un cliente, tomando en cuenta los descuentos correspondientes."
      ],
      "metadata": {
        "id": "XpaYy9IU6blj"
      }
    },
    {
      "cell_type": "code",
      "source": [
        "producto = int(input(\"Ingresa el numero segun el producto que desea comprar 1)computadora 2)television 3)consola de videojuegos: \"))\n",
        "precio = float(input(\"Ingres el precio del producto que selecciono: \"))\n",
        "preciofinal = precio\n",
        "\n",
        "if producto == 1:\n",
        "    preciofinal *= 0.95\n",
        "    impresora = input(\"¿Le gustaria comprar una impresora? (s/n): \")\n",
        "    if impresora == \"s\":\n",
        "        preciofinal *= 0.9\n",
        "\n",
        "elif producto == 2:\n",
        "    preciofinal *= 0.93\n",
        "    barra_sonido = input(\"¿Le gustaria comprar una barra de sonido? (s/n): \")\n",
        "    if barra_sonido == \"s\":\n",
        "        preciofinal *= 0.85\n",
        "\n",
        "elif producto == 3:\n",
        "    preciofinal *= 0.9\n",
        "    juego = input(\"¿Le gustaria comprar un juego? (s/n): \")\n",
        "    if juego == \"s\":\n",
        "        preciofinal *= 0.8\n",
        "\n",
        "print(\"El precio total de la compra es:\", preciofinal)"
      ],
      "metadata": {
        "colab": {
          "base_uri": "https://localhost:8080/"
        },
        "id": "wqN_Yhf46f1t",
        "outputId": "48fe1536-5a00-4412-fe61-65c764114608"
      },
      "execution_count": null,
      "outputs": [
        {
          "output_type": "stream",
          "name": "stdout",
          "text": [
            "Ingresa el numero segun el producto que desea comprar 1)computadora 2)television 3)consola de videojuegos: 1\n",
            "Ingres el precio del producto que selecciono: 20\n",
            "¿Le gustaria comprar una impresora? (s/n): s\n",
            "El precio total de la compra es: 17.1\n"
          ]
        }
      ]
    },
    {
      "cell_type": "markdown",
      "source": [
        "#9.- En una tienda de ropa, los precios de los productos cambian dependiendo de la temporada. Durante la temporada de verano, todos los productos tienen un descuento del 20%. Durante la temporada de invierno, los productos con etiqueta roja tienen un descuento del 30% y los productos con etiqueta verde tienen un descuento del 15%. Durante la temporada de primavera y otoño, los productos con etiqueta amarilla tienen un descuento del 10%. Escribe un programa que calcule el precio a pagar por un cliente, tomando en cuenta los descuentos correspondientes."
      ],
      "metadata": {
        "id": "Y-eMkdhP6iTn"
      }
    },
    {
      "cell_type": "code",
      "source": [
        "precio = float(input(\"Ingresa el precio del producto: \"))\n",
        "etiqueta = input(\"Esciba el color de la etiquta segun las opciones: roja, verde o amarilla \")\n",
        "\n",
        "descuento_temporada = 0\n",
        "descuento_etiqueta = 0\n",
        "\n",
        "temporada = input(\"Escriba la temporada: verano, invierno, primavera u otoño: \")\n",
        "if temporada == \"verano\":\n",
        "    descuento_temporada = 0.2\n",
        "elif temporada == \"invierno\":\n",
        "    if etiqueta == \"roja\":\n",
        "        descuento_temporada = 0.3\n",
        "    elif etiqueta == \"verde\":\n",
        "        descuento_temporada = 0.15\n",
        "elif temporada == \"primavera\" or temporada == \"otoño\":\n",
        "    if etiqueta == \"amarilla\":\n",
        "        descuento_temporada = 0.1\n",
        "\n",
        "precio_descuento_temporada = precio * (1 - descuento_temporada)\n",
        "precio_final = precio_descuento_temporada * (1 - descuento_etiqueta)\n",
        "\n",
        "print(\"El precio total a pagar es de: $\", (precio_final))\n"
      ],
      "metadata": {
        "colab": {
          "base_uri": "https://localhost:8080/"
        },
        "id": "IuIZhR2nCyj6",
        "outputId": "13df9656-cbdb-4ef5-c850-08619ef2a9a0"
      },
      "execution_count": null,
      "outputs": [
        {
          "output_type": "stream",
          "name": "stdout",
          "text": [
            "Ingresa el precio del producto: 20\n",
            "Esciba el color de la etiquta segun las opciones: roja, verde o amarilla roja\n",
            "Escriba la temporada: verano, invierno, primavera u otoño: invierno\n",
            "El precio total a pagar es de: $ 14.0\n"
          ]
        }
      ]
    },
    {
      "cell_type": "markdown",
      "source": [
        "#10.- Un restaurante ofrece descuentos a sus clientes, dependiendo del día de la semana y del tipo de menú que pidan. Los lunes, los clientes que pidan el menú del día tienen un descuento del 10%. Los martes, los clientes que pidan el menú infantil tienen un descuento del 20%. Los miércoles, los clientes que pidan el menú vegetariano tienen un descuento del 15%. Los jueves, los clientes que pidan el menú del chef tienen un descuento del 5%. Los viernes, los clientes que pidan el menú del día tienen un descuento del 5%. Los sábados y domingos no hay descuentos. Escribe un programa que calcule el precio a pagar por un cliente, tomando en cuenta los descuentos correspondientes.\n",
        "\n"
      ],
      "metadata": {
        "id": "ZCEIHAGu6kAW"
      }
    },
    {
      "cell_type": "code",
      "source": [
        "dia = input(\"Escriba el dia de la semana \")\n",
        "platillo = int(input(\"Seleccione el tipo de menu que pidio\\n 1)dia\\n 2)infantil\\n 3)vegetariano\\n 4)chef\\n \"))\n",
        "precio = float(input(\"Ingresa el precio del platillo \"))\n",
        "\n",
        "if dia_semana == \"lunes\" and tipo_menu == 1:\n",
        "    descuento = 0.1\n",
        "elif dia_semana == \"martes\" and tipo_menu == 2:\n",
        "    descuento = 0.2\n",
        "elif dia_semana == \"miércoles\" and tipo_menu == 3:\n",
        "    descuento = 0.15\n",
        "elif dia_semana == \"jueves\" and tipo_menu == 4:\n",
        "    descuento = 0.05\n",
        "elif dia_semana == \"viernes\" and tipo_menu == 1:\n",
        "    descuento = 0.05\n",
        "\n",
        "precio_final = precio * (1 - descuento)\n",
        "\n",
        "print(\"El precio a pagar es: $\", precio_final)"
      ],
      "metadata": {
        "colab": {
          "base_uri": "https://localhost:8080/",
          "height": 373
        },
        "id": "zhcrzVklRA79",
        "outputId": "5a6f395e-7465-44fd-92ce-d86006fd0f56"
      },
      "execution_count": null,
      "outputs": [
        {
          "name": "stdout",
          "output_type": "stream",
          "text": [
            "Escriba el dia de la semana lunes\n",
            "Seleccione el tipo de menu que pidio\n",
            " 1)dia\n",
            " 2)infantil\n",
            " 3)vegetariano\n",
            " 4)chef\n",
            " 1\n",
            "Ingresa el precio del platillo 20\n"
          ]
        },
        {
          "output_type": "error",
          "ename": "NameError",
          "evalue": "ignored",
          "traceback": [
            "\u001b[0;31m---------------------------------------------------------------------------\u001b[0m",
            "\u001b[0;31mNameError\u001b[0m                                 Traceback (most recent call last)",
            "\u001b[0;32m<ipython-input-49-f1afb6efc985>\u001b[0m in \u001b[0;36m<module>\u001b[0;34m\u001b[0m\n\u001b[1;32m      3\u001b[0m \u001b[0mprecio\u001b[0m \u001b[0;34m=\u001b[0m \u001b[0mfloat\u001b[0m\u001b[0;34m(\u001b[0m\u001b[0minput\u001b[0m\u001b[0;34m(\u001b[0m\u001b[0;34m\"Ingresa el precio del platillo \"\u001b[0m\u001b[0;34m)\u001b[0m\u001b[0;34m)\u001b[0m\u001b[0;34m\u001b[0m\u001b[0;34m\u001b[0m\u001b[0m\n\u001b[1;32m      4\u001b[0m \u001b[0;34m\u001b[0m\u001b[0m\n\u001b[0;32m----> 5\u001b[0;31m \u001b[0;32mif\u001b[0m \u001b[0mdia_semana\u001b[0m \u001b[0;34m==\u001b[0m \u001b[0;34m\"lunes\"\u001b[0m \u001b[0;32mand\u001b[0m \u001b[0mtipo_menu\u001b[0m \u001b[0;34m==\u001b[0m \u001b[0;36m1\u001b[0m\u001b[0;34m:\u001b[0m\u001b[0;34m\u001b[0m\u001b[0;34m\u001b[0m\u001b[0m\n\u001b[0m\u001b[1;32m      6\u001b[0m     \u001b[0mdescuento\u001b[0m \u001b[0;34m=\u001b[0m \u001b[0;36m0.1\u001b[0m\u001b[0;34m\u001b[0m\u001b[0;34m\u001b[0m\u001b[0m\n\u001b[1;32m      7\u001b[0m \u001b[0;32melif\u001b[0m \u001b[0mdia_semana\u001b[0m \u001b[0;34m==\u001b[0m \u001b[0;34m\"martes\"\u001b[0m \u001b[0;32mand\u001b[0m \u001b[0mtipo_menu\u001b[0m \u001b[0;34m==\u001b[0m \u001b[0;36m2\u001b[0m\u001b[0;34m:\u001b[0m\u001b[0;34m\u001b[0m\u001b[0;34m\u001b[0m\u001b[0m\n",
            "\u001b[0;31mNameError\u001b[0m: name 'dia_semana' is not defined"
          ]
        }
      ]
    }
  ]
}