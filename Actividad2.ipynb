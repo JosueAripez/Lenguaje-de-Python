{
  "nbformat": 4,
  "nbformat_minor": 0,
  "metadata": {
    "colab": {
      "provenance": [],
      "authorship_tag": "ABX9TyMlVgmQ2oeNKhG1D6OBxWsp",
      "include_colab_link": true
    },
    "kernelspec": {
      "name": "python3",
      "display_name": "Python 3"
    },
    "language_info": {
      "name": "python"
    }
  },
  "cells": [
    {
      "cell_type": "markdown",
      "metadata": {
        "id": "view-in-github",
        "colab_type": "text"
      },
      "source": [
        "<a href=\"https://colab.research.google.com/github/JosueAripez/Lenguaje-de-Python/blob/main/Actividad2.ipynb\" target=\"_parent\"><img src=\"https://colab.research.google.com/assets/colab-badge.svg\" alt=\"Open In Colab\"/></a>"
      ]
    },
    {
      "cell_type": "markdown",
      "source": [
        "# 1.- Programa en Python que lea 2 números enteros, usar una condición y analizar los dos números y desplegar cual de los números es el mayor.\n",
        "\n"
      ],
      "metadata": {
        "id": "nxuOb4e-tbB7"
      }
    },
    {
      "cell_type": "code",
      "source": [
        "num1 = input(\"Ingresa un numero \")\n",
        "num2 = input(\"Ingresa otro numero \")\n",
        "\n",
        "\n",
        "if (num1 > num2):\n",
        "      print(f\"El numero mayor es: {num2}\")\n",
        "  \n",
        "if (num2 > num1):\n",
        "      print(f\"El numero mayor es: {num1}\")\n",
        "\n"
      ],
      "metadata": {
        "id": "DXxZyZTutghS",
        "colab": {
          "base_uri": "https://localhost:8080/"
        },
        "outputId": "7320f4f7-d58f-4918-a7c1-49c7c85213ad"
      },
      "execution_count": 59,
      "outputs": [
        {
          "output_type": "stream",
          "name": "stdout",
          "text": [
            "Ingresa un numero 10\n",
            "Ingresa otro numero 2\n",
            "El numero mayor es: 10\n"
          ]
        }
      ]
    },
    {
      "cell_type": "markdown",
      "source": [
        "# 2.- Programa en PythonAlgoritmo que lea 4 calificaciones de un alumno, calcular y desplegar el promedio acompañado de la leyenda \"APROBADO\" o \"REPROBADO\""
      ],
      "metadata": {
        "id": "VUA6gzUatm3_"
      }
    },
    {
      "cell_type": "code",
      "source": [
        "cal1 = float(input(\"Ingresa la calificacion 1: \"))\n",
        "cal2 = float(input(\"Ingresa la calificacion 2: \"))\n",
        "cal3 = float(input(\"Ingresa la calificacion 3: \"))\n",
        "cal4 = float(input(\"Ingresa la calificacion 4: \"))\n",
        "\n",
        "prom = (cal1 + cal2 + cal3 + cal4) / 4\n",
        "\n",
        "if(prom >= 60):\n",
        "      print(f\"Aprobado con promedio de: {prom}\")\n",
        "  \n",
        "if(prom < 60):\n",
        "      print(f\"Reprobado con promedio de: {prom}\")"
      ],
      "metadata": {
        "colab": {
          "base_uri": "https://localhost:8080/"
        },
        "id": "Ns2niIPTz5kt",
        "outputId": "d0c64da5-62e9-49c8-8df8-5818c6aa8e8c"
      },
      "execution_count": 60,
      "outputs": [
        {
          "output_type": "stream",
          "name": "stdout",
          "text": [
            "Ingresa la calificacion 1: 70\n",
            "Ingresa la calificacion 2: 70\n",
            "Ingresa la calificacion 3: 70\n",
            "Ingresa la calificacion 4: 70\n",
            "Aprobado con promedio de: 70.0\n"
          ]
        }
      ]
    },
    {
      "cell_type": "markdown",
      "source": [
        "# 3.- Programa en PythonAlgoritmo que a través de opciones (1.- HOMBRE 2.- MUJER ) preguntar al usuario cual es su sexo y desplegar la leyenda “HOMBRE ”, “MUJER”"
      ],
      "metadata": {
        "id": "2Da0kJ2u0v-k"
      }
    },
    {
      "cell_type": "code",
      "source": [
        "print(\"Eliga el numero segun su sexo: \")\n",
        "\n",
        "sexo = int(input(\"1)Hombre 2)Mujer \"))\n",
        "\n",
        "if(sexo == 1):\n",
        "  print(\"Hombre\")\n",
        "\n",
        "if(sexo == 2):\n",
        "  print(\"Mujer\")"
      ],
      "metadata": {
        "colab": {
          "base_uri": "https://localhost:8080/"
        },
        "id": "o8e8EnzJ0z4S",
        "outputId": "9bec4890-0ebb-4daa-cfc4-9a11fc632a1a"
      },
      "execution_count": 61,
      "outputs": [
        {
          "output_type": "stream",
          "name": "stdout",
          "text": [
            "Eliga el numero segun su sexo: \n",
            "1)Hombre 2)Mujer 1\n",
            "Hombre\n"
          ]
        }
      ]
    },
    {
      "cell_type": "markdown",
      "source": [
        "# 4.- Programa en Python que lea un número entero, y desplegar si el número es “PAR” o “IMPAR”\n",
        "\n"
      ],
      "metadata": {
        "id": "82cdxfek10R1"
      }
    },
    {
      "cell_type": "code",
      "source": [
        "num = int(input(\"Introduce un numero que sea entero: \"))\n",
        "\n",
        "if(num % 2 == 0):\n",
        "  print(\"El numero es par\")\n",
        "\n",
        "if(num % 2 !=0):\n",
        "  print(\"El numero es impar\")"
      ],
      "metadata": {
        "colab": {
          "base_uri": "https://localhost:8080/"
        },
        "id": "7D9GsEEC13S_",
        "outputId": "09620761-c688-4bb1-ba44-2ea463ce0dba"
      },
      "execution_count": 62,
      "outputs": [
        {
          "output_type": "stream",
          "name": "stdout",
          "text": [
            "Introduce un numero que sea entero: 7\n",
            "El numero es impar\n"
          ]
        }
      ]
    },
    {
      "cell_type": "markdown",
      "source": [
        "# 5.- Programa en Python que lea 2 números enteros, usar una condición y analizar los dos números y desplegar cual de los números es el mayor."
      ],
      "metadata": {
        "id": "aLZgChEM23Rz"
      }
    },
    {
      "cell_type": "code",
      "source": [
        "num1 = input(\"Ingresa un numero \")\n",
        "num2 = input(\"Ingresa otro numero \")\n",
        "\n",
        "if (num1 > num2):\n",
        "      print(f\"El numero mayor es: {num1}\")\n",
        "else:\n",
        "      print(f\"El numero mayor es: {num2}\")"
      ],
      "metadata": {
        "colab": {
          "base_uri": "https://localhost:8080/"
        },
        "id": "260cD0Wt275g",
        "outputId": "db5ecebc-ff36-4346-f607-fa28a40a7a9a"
      },
      "execution_count": 64,
      "outputs": [
        {
          "output_type": "stream",
          "name": "stdout",
          "text": [
            "Ingresa un numero 7\n",
            "Ingresa otro numero 2\n",
            "El numero mayor es: 7\n"
          ]
        }
      ]
    },
    {
      "cell_type": "markdown",
      "source": [
        "# 6.- Programa en Python que lea 4 calificaciones de un alumno, calcular y desplegar el promedio acompañado de la leyenda APROBADO o REPROBADO"
      ],
      "metadata": {
        "id": "6Z8-VnFV5d87"
      }
    },
    {
      "cell_type": "code",
      "source": [
        "cal1 = float(input(\"Ingresa la calificacion 1: \"))\n",
        "cal2 = float(input(\"Ingresa la calificacion 2: \"))\n",
        "cal3 = float(input(\"Ingresa la calificacion 3: \"))\n",
        "cal4 = float(input(\"Ingresa la calificacion 4: \"))\n",
        "\n",
        "prom = (cal1 + cal2 + cal3 + cal4) / 4\n",
        "\n",
        "if(prom >= 60):\n",
        "      print(f\"Aprobado con promedio de: {prom}\")\n",
        "  \n",
        "else:\n",
        "      print(f\"Reprobado con promedio de: {prom}\")"
      ],
      "metadata": {
        "colab": {
          "base_uri": "https://localhost:8080/"
        },
        "id": "mB7MW9zN5iw9",
        "outputId": "821756c0-c054-4f23-86a5-a26f7a81bbf6"
      },
      "execution_count": 65,
      "outputs": [
        {
          "output_type": "stream",
          "name": "stdout",
          "text": [
            "Ingresa la calificacion 1: 100\n",
            "Ingresa la calificacion 2: 80\n",
            "Ingresa la calificacion 3: 70\n",
            "Ingresa la calificacion 4: 50\n",
            "Aprobado con promedio de: 75.0\n"
          ]
        }
      ]
    },
    {
      "cell_type": "markdown",
      "source": [
        "# 7.- Programa en Python que a través de opciones (1.- HOMBRE 2.- MUJER ) preguntar al usuario cual es su sexo y desplegar la leyenda “HOMBRE ”, “MUJER”"
      ],
      "metadata": {
        "id": "oFOSx0p0533u"
      }
    },
    {
      "cell_type": "code",
      "source": [
        "print(\"Eliga el numero segun su sexo: \")\n",
        "\n",
        "sexo = int(input(\"1)Hombre 2)Mujer \"))\n",
        "\n",
        "if(sexo == 1):\n",
        "  print(\"Hombre\")\n",
        "\n",
        "else:\n",
        "  print(\"Mujer\")"
      ],
      "metadata": {
        "colab": {
          "base_uri": "https://localhost:8080/"
        },
        "id": "0joCy9wu57P4",
        "outputId": "eaf98f70-c5e3-458d-fb83-4cacad7fac46"
      },
      "execution_count": 66,
      "outputs": [
        {
          "output_type": "stream",
          "name": "stdout",
          "text": [
            "Eliga el numero segun su sexo: \n",
            "1)Hombre 2)Mujer 1\n",
            "Hombre\n"
          ]
        }
      ]
    },
    {
      "cell_type": "markdown",
      "source": [
        "# 8.- Programa en Python que lea un número entero, y desplegar si el número es “PAR” o “IMPAR” NOTA: EJERCICIOS PARA SER RESUELTOS USANDO EXCLUSIVAMENTE CONDICIONES COMPUESTO\n"
      ],
      "metadata": {
        "id": "BDdIDwpp6GCp"
      }
    },
    {
      "cell_type": "code",
      "source": [
        "num = int(input(\"Introduce un numero que sea entero: \"))\n",
        "\n",
        "if(num % 2 == 0):\n",
        "  print(\"El numero es par\")\n",
        "\n",
        "else:\n",
        "  print(\"El numero es impar\")"
      ],
      "metadata": {
        "colab": {
          "base_uri": "https://localhost:8080/"
        },
        "id": "Vrcld-ez6JPC",
        "outputId": "67080106-5c35-4a7a-9ee3-97575d3d7054"
      },
      "execution_count": 67,
      "outputs": [
        {
          "output_type": "stream",
          "name": "stdout",
          "text": [
            "Introduce un numero que sea entero: 7\n",
            "El numero es impar\n"
          ]
        }
      ]
    }
  ]
}