{
  "nbformat": 4,
  "nbformat_minor": 0,
  "metadata": {
    "colab": {
      "provenance": [],
      "authorship_tag": "ABX9TyNDWdgqHMW8+DXPEU07Hkax",
      "include_colab_link": true
    },
    "kernelspec": {
      "name": "python3",
      "display_name": "Python 3"
    },
    "language_info": {
      "name": "python"
    }
  },
  "cells": [
    {
      "cell_type": "markdown",
      "metadata": {
        "id": "view-in-github",
        "colab_type": "text"
      },
      "source": [
        "<a href=\"https://colab.research.google.com/github/JosueAripez/Lenguaje-de-Python/blob/main/Actividad6.ipynb\" target=\"_parent\"><img src=\"https://colab.research.google.com/assets/colab-badge.svg\" alt=\"Open In Colab\"/></a>"
      ]
    },
    {
      "cell_type": "code",
      "execution_count": 27,
      "metadata": {
        "id": "qPW0qL23yW0n"
      },
      "outputs": [],
      "source": [
        "import random\n",
        "\n",
        "from IPython.display import clear_output"
      ]
    },
    {
      "cell_type": "code",
      "source": [
        "def sum_media():\n",
        "   \n",
        "    numeros = []\n",
        "    continuar = True\n",
        "    \n",
        "    while continuar:\n",
        "        numero = float(input(\"Ingresa un numero: \"))\n",
        "        numeros.append(numero)\n",
        "        respuesta = input(\"Quiere ingresar otro numero? (s/n): \")\n",
        "        if respuesta == 'n':\n",
        "            continuar = False\n",
        "    suma = sum(numeros)\n",
        "    media = suma / len(numeros)\n",
        "    mayor = max(numeros)\n",
        "    menor = min(numeros)\n",
        "    print(\"La suma de los numeros ingresados es: \", suma)\n",
        "    print(\"La media de los numeros ingresados es: \", media)\n",
        "    print(\"El mayor numero ingresado es: \", mayor)\n",
        "    print(\"El menor numero ingresado es: \", menor)"
      ],
      "metadata": {
        "id": "szuxMUzFdDfC"
      },
      "execution_count": 28,
      "outputs": []
    },
    {
      "cell_type": "code",
      "source": [
        "def num_pares_imp():\n",
        "\n",
        "    impares = []\n",
        "    pares = []\n",
        "    cantidad = 0\n",
        "\n",
        "    while len(impares) < 15 and cantidad < 25:\n",
        "        numero = random.randint(10, 60)\n",
        "        if numero % 2 != 0:\n",
        "            impares.append(numero)\n",
        "        else:\n",
        "            pares.append(numero)\n",
        "        cantidad += 1\n",
        "    media_impares = sum(impares) / len(impares)\n",
        "    media_pares = sum(pares) / len(pares)\n",
        "    print(pares)\n",
        "    print(impares)\n",
        "    print(\"La media de los numeros impares: \", media_impares)\n",
        "    print(\"La media de los numeros pares: \", media_pares)"
      ],
      "metadata": {
        "id": "ZBj-wCuydeLL"
      },
      "execution_count": 29,
      "outputs": []
    },
    {
      "cell_type": "code",
      "source": [
        "def rango():\n",
        "   \n",
        "    numeros = []\n",
        "    \n",
        "    while True:\n",
        "        try:\n",
        "            rango_inferior = int(input(\"Ingresa el limite inferior del rango: \"))\n",
        "            rango_superior = int(input(\"Ingresa el limite superior del rango: \"))\n",
        "            numero = int(input(\"Ingresa un numero dentro del rango dado: \"))\n",
        "            if numero >= rango_inferior and numero <= rango_superior:\n",
        "                numeros.append(numero)\n",
        "            else:\n",
        "                print(f\"El numero {numero} no esta dentro del rango \")\n",
        "            continuar = input(\"Quiere ingresar otro numero? (s/n): \")\n",
        "            if continuar == 'n':\n",
        "                break\n",
        "        except ValueError:\n",
        "            print(\"Lo que has ingresado no es lo rquerido \")\n",
        "    cantidad_numeros = len(numeros)\n",
        "    promedio_numeros = sum(numeros) / cantidad_numeros\n",
        "    print(\"Cantidad de numeros ingresados: \", cantidad_numeros)\n",
        "    print(\"Promedio de los numeros ingresados: \", promedio_numeros)"
      ],
      "metadata": {
        "id": "NkenPlksdhm6"
      },
      "execution_count": 30,
      "outputs": []
    },
    {
      "cell_type": "code",
      "source": [
        "def area_triangulo():\n",
        "    base = float(input(\"Ingresa la base del triangulo \"))\n",
        "    altura = float(input(\"Ingresa la altura del triangulo \"))\n",
        "    \n",
        "    def area(base, altura):\n",
        "        area = (base *  altura) / 2\n",
        "        print(f\"{area}\")\n",
        "        \n",
        "    area(base, altura)"
      ],
      "metadata": {
        "id": "RLDuBUxUhGxo"
      },
      "execution_count": 31,
      "outputs": []
    },
    {
      "cell_type": "code",
      "source": [
        "def promedio():\n",
        "  cal_min = 70\n",
        "  max_opor = 3\n",
        "\n",
        "  oportunidades = 1\n",
        "\n",
        "  promedio = float(input(\"Ingresa tu promedio de la materia: \"))\n",
        "\n",
        "  while promedio < cal_min and oportunidades < max_opor:\n",
        "      print(\"Tu promedio no es sufuciente, has reprobado la materia, vuelve a intentarlo \")\n",
        "      oportunidades += 1\n",
        "      promedio = float(input(\"Ingresa tu promedio de la materia: \"))\n",
        "\n",
        "  if promedio >= cal_min:\n",
        "      print(\"Felicidades avanzas al siguiente semestre \")\n",
        "  else:\n",
        "      print(\"Tu promedio no es sufuciente, has reprobado la materia \")\n",
        "      if oportunidades == max_opor:\n",
        "         print(\"Lastima estas fuera de la Poderosisima e Inigualable UABC\")"
      ],
      "metadata": {
        "id": "mx8au2GwdqNi"
      },
      "execution_count": 32,
      "outputs": []
    },
    {
      "cell_type": "code",
      "source": [
        "def menu():\n",
        "   \n",
        "    print(\"M E N U \")\n",
        "    print(\"1)Suma y media de numeros\")\n",
        "    print(\"2)Numeros pares e impares\")\n",
        "    print(\"3)Numeros dentro déun rango\")\n",
        "    print(\"4)Area de un triangulo\")\n",
        "    print(\"5)Promedio de una materia\")\n",
        "    print(\"6)Salir\")"
      ],
      "metadata": {
        "id": "8_4WQ__GjHWR"
      },
      "execution_count": 33,
      "outputs": []
    },
    {
      "cell_type": "code",
      "source": [
        "while True:\n",
        "    menu()\n",
        "    op = int(input(\"Ingresa un numero segun lo que deseas hacer \"))\n",
        "    if op == 1:\n",
        "        \n",
        "        sum_media()\n",
        "        input(\"Presiona Enter para borrar \")\n",
        "        clear_output()\n",
        "        continue\n",
        "  \n",
        "    elif op == 2:\n",
        "        num_pares_imp()\n",
        "        input(\"Presiona Enter para borrar \")\n",
        "        clear_output()\n",
        "        continue\n",
        "    \n",
        "    elif op == 3:\n",
        "        rango()\n",
        "        input(\"Presiona Enter para borrar \")\n",
        "        clear_output()\n",
        "        continue\n",
        "  \n",
        "    elif op == 4:\n",
        "        area_triangulo()\n",
        "        input(\"Presiona Enter para borrar \")\n",
        "        clear_output()\n",
        "        continue\n",
        "    \n",
        "    elif op == 5:\n",
        "        promedio()\n",
        "        input(\"Presiona Enter para borrar \")\n",
        "        clear_output()\n",
        "        continue\n",
        "    \n",
        "    elif op == 6:\n",
        "        break"
      ],
      "metadata": {
        "colab": {
          "base_uri": "https://localhost:8080/"
        },
        "id": "kQ9AgulFkm0M",
        "outputId": "70ee5e08-007d-4916-df4f-e97fca00a8d8"
      },
      "execution_count": null,
      "outputs": [
        {
          "output_type": "stream",
          "name": "stdout",
          "text": [
            "M E N U \n",
            "1)Suma y media de numeros\n",
            "2)Numeros pares e impares\n",
            "3)Numeros dentro déun rango\n",
            "4)Area de un triangulo\n",
            "5)Promedio de una materia\n",
            "6)Salir\n"
          ]
        }
      ]
    }
  ]
}