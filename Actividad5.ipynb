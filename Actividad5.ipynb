{
  "nbformat": 4,
  "nbformat_minor": 0,
  "metadata": {
    "colab": {
      "provenance": [],
      "authorship_tag": "ABX9TyP1qgb9f2s7r9YimA3cIZXZ",
      "include_colab_link": true
    },
    "kernelspec": {
      "name": "python3",
      "display_name": "Python 3"
    },
    "language_info": {
      "name": "python"
    }
  },
  "cells": [
    {
      "cell_type": "markdown",
      "metadata": {
        "id": "view-in-github",
        "colab_type": "text"
      },
      "source": [
        "<a href=\"https://colab.research.google.com/github/JosueAripez/Lenguaje-de-Python/blob/main/Actividad5.ipynb\" target=\"_parent\"><img src=\"https://colab.research.google.com/assets/colab-badge.svg\" alt=\"Open In Colab\"/></a>"
      ]
    },
    {
      "cell_type": "markdown",
      "source": [
        "# **PARTE 1**"
      ],
      "metadata": {
        "id": "4ONy954jHPBM"
      }
    },
    {
      "cell_type": "code",
      "source": [
        "import random"
      ],
      "metadata": {
        "id": "g-ErPapVPbeo"
      },
      "execution_count": 36,
      "outputs": []
    },
    {
      "cell_type": "markdown",
      "source": [
        "#1.- Programa en Python que genere 40 números aleatorios entre el 0 y 200, desplegar los números y la leyenda de cada número si es par o impar , la cantidad de los números pares e impares así como la suma de los números pares o impares."
      ],
      "metadata": {
        "id": "yK4pnT1OByea"
      }
    },
    {
      "cell_type": "code",
      "source": [
        "contador_pares = 0\n",
        "contador_impares = 0\n",
        "suma_pares = 0\n",
        "suma_impares = 0\n",
        "\n",
        "numeros = []\n",
        "for i in range(40):\n",
        "    numeros.append(random.randint(0, 200))\n",
        "\n",
        "for numero in numeros:\n",
        "    if numero % 2 == 0:\n",
        "        print(numero, \"Es par \")\n",
        "        contador_pares += 1\n",
        "        suma_pares += numero\n",
        "    else:\n",
        "        print(numero, \"Es impar \")\n",
        "        contador_impares += 1\n",
        "        suma_impares += numero\n",
        "\n",
        "print(\"Cantidad de numeros pares: \", contador_pares)\n",
        "print(\"Suma de numeros pares: \", suma_pares)\n",
        "print(\"Cantidad de numeros impares: \", contador_impares)\n",
        "print(\"Suma de numeros impares: \", suma_impares)\n"
      ],
      "metadata": {
        "colab": {
          "base_uri": "https://localhost:8080/"
        },
        "id": "pbwKh8rMB4kr",
        "outputId": "2b411d11-698f-4726-97ce-8d54a13cb5a6"
      },
      "execution_count": 1,
      "outputs": [
        {
          "output_type": "stream",
          "name": "stdout",
          "text": [
            "141 es impar\n",
            "3 es impar\n",
            "149 es impar\n",
            "2 es par\n",
            "52 es par\n",
            "148 es par\n",
            "107 es impar\n",
            "82 es par\n",
            "96 es par\n",
            "99 es impar\n",
            "53 es impar\n",
            "13 es impar\n",
            "140 es par\n",
            "95 es impar\n",
            "66 es par\n",
            "3 es impar\n",
            "149 es impar\n",
            "158 es par\n",
            "164 es par\n",
            "108 es par\n",
            "172 es par\n",
            "134 es par\n",
            "105 es impar\n",
            "84 es par\n",
            "64 es par\n",
            "111 es impar\n",
            "119 es impar\n",
            "6 es par\n",
            "137 es impar\n",
            "16 es par\n",
            "145 es impar\n",
            "168 es par\n",
            "4 es par\n",
            "135 es impar\n",
            "96 es par\n",
            "156 es par\n",
            "189 es impar\n",
            "26 es par\n",
            "193 es impar\n",
            "3 es impar\n",
            "Cantidad de números pares: 21\n",
            "Suma de números pares: 1942\n",
            "Cantidad de números impares: 19\n",
            "Suma de números impares: 1949\n"
          ]
        }
      ]
    },
    {
      "cell_type": "markdown",
      "source": [
        "#2.- Programa en Python que despliegue la tabla de multiplicar de un número dado (número entre el 1 y 20)"
      ],
      "metadata": {
        "id": "tct2mRq-DFeB"
      }
    },
    {
      "cell_type": "code",
      "source": [
        "numero = int(input(\"Ingresa un numero en un rango de 1 a 20: \"))\n",
        "\n",
        "if numero < 1 or numero > 20:\n",
        "    print(\"El numero ingresado esta fuera del rango \")\n",
        "else:\n",
        "    print(\"Tabla de multiplicar del \", numero)\n",
        "    for i in range(1, 11):\n",
        "        resultado = numero * i\n",
        "        print(numero, \"x\", i, \"=\", resultado)\n"
      ],
      "metadata": {
        "colab": {
          "base_uri": "https://localhost:8080/"
        },
        "id": "8Hn_DuQ9DMTX",
        "outputId": "e1d1770b-6ffd-4523-9470-86e95a7098d7"
      },
      "execution_count": 5,
      "outputs": [
        {
          "output_type": "stream",
          "name": "stdout",
          "text": [
            "Ingresa un numero en un rango de 1 a 20: 50\n",
            "El numero ingresado esta fuera del rango \n"
          ]
        }
      ]
    },
    {
      "cell_type": "markdown",
      "source": [
        "#3.- Programa en Python que lea una calificación, las calificación deberá estar en el rango de 0 a 100, si hay un error de captura, mostrar mensaje de error. con la calificación correcta mostrar msg de aprobado reprobado"
      ],
      "metadata": {
        "id": "mLELY6cSDxCg"
      }
    },
    {
      "cell_type": "code",
      "source": [
        "cal = input(\"Ingresa la califacion en un rango de 0 a 100: \" )\n",
        "\n",
        "try:\n",
        "    cal = float(cal)\n",
        "    if cal < 0 or cal > 100:\n",
        "        raise ValueError\n",
        "except ValueError:\n",
        "    print(\"Error: la calificacion debe ser un número entre 0 y 100 \")\n",
        "else:\n",
        "    if cal >= 60:\n",
        "        print(\"Aprobado \")\n",
        "    else:\n",
        "        print(\"Reprobado \")\n"
      ],
      "metadata": {
        "colab": {
          "base_uri": "https://localhost:8080/"
        },
        "id": "nQDFjJl3D1o4",
        "outputId": "245b576f-a26f-4ddf-e95c-d011967086a2"
      },
      "execution_count": 9,
      "outputs": [
        {
          "output_type": "stream",
          "name": "stdout",
          "text": [
            "Ingresa la califacion en un rango de 0 a 100: 60\n",
            "Aprobado \n"
          ]
        }
      ]
    },
    {
      "cell_type": "markdown",
      "source": [
        "#4.- Programa en Python que lea n cantidad de números enteros dentro de un rango dado (> 0 ) , el programa deberá terminar cuando el usuario introduzca el número cero.\n",
        "\n",
        "#desplegar la suma de números y la media."
      ],
      "metadata": {
        "id": "u5KKxkBPFN-0"
      }
    },
    {
      "cell_type": "code",
      "source": [
        "n = int(input(\"Ingresa la cantidad de numeros a leer: \"))\n",
        "\n",
        "if n <= 0:\n",
        "    print(\"Error: el numero ingresado debe ser mayor a 0 \")\n",
        "else:\n",
        "    suma = 0\n",
        "    for i in range(n):\n",
        "        numero = int(input(\"Ingresa un numero: \"))\n",
        "        if numero <= 0:\n",
        "            break\n",
        "        suma += numero\n",
        "    if suma > 0:\n",
        "        media = suma / i\n",
        "        print(\"Suma total de los numeros ingresados: \", suma)\n",
        "        print(\"Media de los numeros ingresados: \", media)\n",
        "    else:\n",
        "        print(\"Numero no valido, el numero debe ser mayor a 0\")\n"
      ],
      "metadata": {
        "colab": {
          "base_uri": "https://localhost:8080/"
        },
        "id": "CEf-heFUFnCC",
        "outputId": "d6de9d24-cf14-4baf-a395-63b71cba9e0d"
      },
      "execution_count": 20,
      "outputs": [
        {
          "output_type": "stream",
          "name": "stdout",
          "text": [
            "Ingresa la cantidad de numeros a leer: 10\n",
            "Ingresa un numero: 5\n",
            "Ingresa un numero: 4\n",
            "Ingresa un numero: 0\n",
            "Suma total de los numeros ingresados:  9\n",
            "Media de los numeros ingresados:  4.5\n"
          ]
        }
      ]
    },
    {
      "cell_type": "markdown",
      "source": [
        "#5.- Programa en Python que sirva para leer el promedio de una materia. donde el usuario tendrá un máximo de 3 oportunidades de cursar la materia, si el promedio es aprobado, felicitarlo y continuar el siguiente semestre, si promedio es reprobado deberá salir mensaje de repetir materia o es baja académica si ha reprobado 3 veces. "
      ],
      "metadata": {
        "id": "o5-qt1IWHKP5"
      }
    },
    {
      "cell_type": "code",
      "source": [
        "cal_min = 70\n",
        "max_opor = 3\n",
        "\n",
        "oportunidades = 1\n",
        "\n",
        "promedio = float(input(\"Ingresa tu promedio de la materia: \"))\n",
        "\n",
        "while promedio < cal_min and oportunidades < max_opor:\n",
        "    print(\"Tu promedio no es sufuciente, has reprobado la materia, vuelve a intentarlo \")\n",
        "    oportunidades += 1\n",
        "    promedio = float(input(\"Ingresa tu promedio de la materia: \"))\n",
        "\n",
        "if promedio >= cal_min:\n",
        "    print(\"Felicidades aprobaste la materia, avanzas al siguiente semestre \")\n",
        "else:\n",
        "    print(\"Tu promedio no es sufuciente, has reprobado la materia \")\n",
        "    if oportunidades == max_opor:\n",
        "        print(\"Has reprobado la materia las 3 veces permitidas eres baja academica.\")\n"
      ],
      "metadata": {
        "colab": {
          "base_uri": "https://localhost:8080/"
        },
        "id": "YU3HwGTmHVm_",
        "outputId": "9000a01f-de63-4f8f-8d44-a4d7d1cb283c"
      },
      "execution_count": 31,
      "outputs": [
        {
          "output_type": "stream",
          "name": "stdout",
          "text": [
            "Ingresa tu promedio de la materia: 60\n",
            "Tu promedio no es sufuciente, has reprobado la materia, vuelve a intentarlo \n",
            "Ingresa tu promedio de la materia: 50\n",
            "Tu promedio no es sufuciente, has reprobado la materia, vuelve a intentarlo \n",
            "Ingresa tu promedio de la materia: 80\n",
            "Felicidades aprobaste la materia, avanzas al siguiente semestre \n"
          ]
        }
      ]
    },
    {
      "cell_type": "markdown",
      "source": [],
      "metadata": {
        "id": "vZlPcfexfyqw"
      }
    },
    {
      "cell_type": "markdown",
      "source": [
        "# **PARTE 2**"
      ],
      "metadata": {
        "id": "igWqPPIXL8fy"
      }
    },
    {
      "cell_type": "markdown",
      "source": [
        "#1.- función que lea n cantidad de números hasta que el usuario lo desee, desplegar la suma de los números, media y valor de los números mayores y menores.\n"
      ],
      "metadata": {
        "id": "E8x4d8SKMBeH"
      }
    },
    {
      "cell_type": "code",
      "source": [
        "def fun_uno():\n",
        "   \n",
        "    numeros = []\n",
        "    continuar = True\n",
        "    \n",
        "    while continuar:\n",
        "        numero = float(input(\"Ingresa un numero: \"))\n",
        "        numeros.append(numero)\n",
        "        respuesta = input(\"Quiere ingresar otro numero? (s/n): \")\n",
        "        if respuesta == 'n':\n",
        "            continuar = False\n",
        "    suma = sum(numeros)\n",
        "    media = suma / len(numeros)\n",
        "    mayor = max(numeros)\n",
        "    menor = min(numeros)\n",
        "    print(\"La suma de los numeros ingresados es: \", suma)\n",
        "    print(\"La media de los numeros ingresados es: \", media)\n",
        "    print(\"El mayor numero ingresado es: \", mayor)\n",
        "    print(\"El menor numero ingresado es: \", menor)\n"
      ],
      "metadata": {
        "id": "2aLSne_2MSBa"
      },
      "execution_count": 43,
      "outputs": []
    },
    {
      "cell_type": "code",
      "source": [
        "fun_uno()"
      ],
      "metadata": {
        "colab": {
          "base_uri": "https://localhost:8080/"
        },
        "id": "TuQBjqihclJQ",
        "outputId": "1b65928c-01a4-4cdd-f516-f8b13e80ea09"
      },
      "execution_count": 85,
      "outputs": [
        {
          "output_type": "stream",
          "name": "stdout",
          "text": [
            "Ingrese un número: 7\n",
            "¿Desea ingresar otro número? (s/n): s\n",
            "Ingrese un número: 7\n",
            "¿Desea ingresar otro número? (s/n): n\n",
            "La suma de los números ingresados es:  14.0\n",
            "La media de los números ingresados es:  7.0\n",
            "El número mayor ingresado es:  7.0\n",
            "El número menor ingresado es:  7.0\n"
          ]
        }
      ]
    },
    {
      "cell_type": "markdown",
      "source": [
        "#2.- función que genere 15 números impares entre 10 y 60 o máximo de 25 números. desplegar la media de los pares y media de impares."
      ],
      "metadata": {
        "id": "bQrdCBd2OUmS"
      }
    },
    {
      "cell_type": "code",
      "source": [
        "def fun_dos():\n",
        "\n",
        "    impares = []\n",
        "    pares = []\n",
        "    cantidad = 0\n",
        "\n",
        "    while len(impares) < 15 and cantidad < 25:\n",
        "        numero = random.randint(10, 60)\n",
        "        if numero % 2 != 0:\n",
        "            impares.append(numero)\n",
        "        else:\n",
        "            pares.append(numero)\n",
        "        cantidad += 1\n",
        "    media_impares = sum(impares) / len(impares)\n",
        "    media_pares = sum(pares) / len(pares)\n",
        "    print(pares)\n",
        "    print(impares)\n",
        "    print(\"La media de los números impares es: \", media_impares)\n",
        "    print(\"La media de los números pares es: \", media_pares)\n"
      ],
      "metadata": {
        "id": "tItAfUnhOZRc"
      },
      "execution_count": 60,
      "outputs": []
    },
    {
      "cell_type": "code",
      "source": [
        "fun_dos()"
      ],
      "metadata": {
        "id": "zuGciXdmcs_A"
      },
      "execution_count": null,
      "outputs": []
    },
    {
      "cell_type": "markdown",
      "source": [
        "#3.- función que sirva para leer y validar un número dentro de un rango dado por el usuario. repetir esta acción hasta que el usuario lo desee, desplegar cantidad de números y promedio de los números.."
      ],
      "metadata": {
        "id": "iTKNJK3WULci"
      }
    },
    {
      "cell_type": "code",
      "source": [
        "def fun_tres():\n",
        "   \n",
        "    numeros = []\n",
        "    \n",
        "    while True:\n",
        "        try:\n",
        "            rango_inferior = int(input(\"Ingresa el limite inferior del rango: \"))\n",
        "            rango_superior = int(input(\"Ingresa el limite superior del rango: \"))\n",
        "            numero = int(input(\"Ingresa un numero dentro del rango dado: \"))\n",
        "            if numero >= rango_inferior and numero <= rango_superior:\n",
        "                numeros.append(numero)\n",
        "            else:\n",
        "                print(f\"El numero {numero} no esta dentro del rango \")\n",
        "            continuar = input(\"Quiere ingresar otro numero? (s/n): \")\n",
        "            if continuar == 'n':\n",
        "                break\n",
        "        except ValueError:\n",
        "            print(\"Lo que has ingresado no es lo rquerido \")\n",
        "    cantidad_numeros = len(numeros)\n",
        "    promedio_numeros = sum(numeros) / cantidad_numeros\n",
        "    print(\"Cantidad de numeros ingresados: \", cantidad_numeros)\n",
        "    print(\"Promedio de los numeros ingresados: \", promedio_numeros)\n"
      ],
      "metadata": {
        "id": "B9k-7vlCUQBD"
      },
      "execution_count": 69,
      "outputs": []
    },
    {
      "cell_type": "code",
      "source": [
        "fun_tres()"
      ],
      "metadata": {
        "colab": {
          "base_uri": "https://localhost:8080/"
        },
        "id": "XbPs0m1IW9Gv",
        "outputId": "54feb389-7834-4011-9dce-1b5a3c8a109a"
      },
      "execution_count": 70,
      "outputs": [
        {
          "output_type": "stream",
          "name": "stdout",
          "text": [
            "Ingresa el limite inferior del rango: 0\n",
            "Ingresa el limite superior del rango: 10\n",
            "Ingresa un numero dentro del rango dado: 5\n",
            "Quiere ingresar otro numero? (s/n): s\n",
            "Ingresa el limite inferior del rango: 0\n",
            "Ingresa el limite superior del rango: 10\n",
            "Ingresa un numero dentro del rango dado: 5\n",
            "Quiere ingresar otro numero? (s/n): n\n",
            "Cantidad de numeros ingresados:  2\n",
            "Promedio de los numeros ingresados:  5.0\n"
          ]
        }
      ]
    },
    {
      "cell_type": "markdown",
      "source": [
        "#4.- función que reciba como parámetro los valores para el área de un triángulo y retorne su resultado"
      ],
      "metadata": {
        "id": "dHOm9A9VaxKm"
      }
    },
    {
      "cell_type": "code",
      "source": [
        "def fun_cuatro(base, altura):\n",
        "    area = (base * altura) / 2\n",
        "    return area\n",
        "area = fun_cuatro(10, 5)"
      ],
      "metadata": {
        "colab": {
          "base_uri": "https://localhost:8080/"
        },
        "id": "iNKwmajjdsR2",
        "outputId": "3f56bb02-8b57-4538-ad42-cbd1e0483744"
      },
      "execution_count": 122,
      "outputs": [
        {
          "output_type": "stream",
          "name": "stdout",
          "text": [
            "25.0\n"
          ]
        }
      ]
    },
    {
      "cell_type": "code",
      "source": [
        "print(area) "
      ],
      "metadata": {
        "colab": {
          "base_uri": "https://localhost:8080/"
        },
        "id": "UqEts5RBfthT",
        "outputId": "ea517dfa-7c9c-475f-9a02-eaf23f2d8416"
      },
      "execution_count": 123,
      "outputs": [
        {
          "output_type": "stream",
          "name": "stdout",
          "text": [
            "25.0\n"
          ]
        }
      ]
    },
    {
      "cell_type": "markdown",
      "source": [
        "#5.- función que sirva para validar un número dentro de un rango dado."
      ],
      "metadata": {
        "id": "IOsB7jhLfzzw"
      }
    },
    {
      "cell_type": "code",
      "source": [
        "def validar_rango(numero, rango_min, rango_max):\n",
        "    if numero >= rango_min and numero <= rango_max:\n",
        "        return True\n",
        "    else:\n",
        "        return False\n",
        "valido = validar_rango(10, 0, 100)\n",
        "\n",
        "valido = validar_rango(200, 0, 100)"
      ],
      "metadata": {
        "id": "xBm1mtcOf3fc"
      },
      "execution_count": 128,
      "outputs": []
    },
    {
      "cell_type": "code",
      "source": [
        "print(valido) \n",
        "\n",
        "print(valido)"
      ],
      "metadata": {
        "colab": {
          "base_uri": "https://localhost:8080/"
        },
        "id": "qh12HrAggUxp",
        "outputId": "5b3a69af-6d52-4bf7-f075-73931acc0f0a"
      },
      "execution_count": 126,
      "outputs": [
        {
          "output_type": "stream",
          "name": "stdout",
          "text": [
            "False\n",
            "False\n"
          ]
        }
      ]
    }
  ]
}