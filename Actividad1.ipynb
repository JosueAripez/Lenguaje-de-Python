{
  "nbformat": 4,
  "nbformat_minor": 0,
  "metadata": {
    "colab": {
      "provenance": [],
      "authorship_tag": "ABX9TyOYv+JYisJplNZNovdSPbT1",
      "include_colab_link": true
    },
    "kernelspec": {
      "name": "python3",
      "display_name": "Python 3"
    },
    "language_info": {
      "name": "python"
    }
  },
  "cells": [
    {
      "cell_type": "markdown",
      "metadata": {
        "id": "view-in-github",
        "colab_type": "text"
      },
      "source": [
        "<a href=\"https://colab.research.google.com/github/JosueAripez/Lenguaje-de-Python/blob/main/Actividad1.ipynb\" target=\"_parent\"><img src=\"https://colab.research.google.com/assets/colab-badge.svg\" alt=\"Open In Colab\"/></a>"
      ]
    },
    {
      "cell_type": "markdown",
      "source": [
        "# 1.- Programa en Python Mostrar un mensaje que diga “HOLA MUNDO” en un solo renglón usando 2 print\n"
      ],
      "metadata": {
        "id": "pwFlGakV3dCC"
      }
    },
    {
      "cell_type": "code",
      "source": [
        "print(\"Hola\", end=\" \")\n",
        "print(\"Mundo\")"
      ],
      "metadata": {
        "colab": {
          "base_uri": "https://localhost:8080/"
        },
        "id": "MKaEIeqc3lLG",
        "outputId": "193c2f63-43fd-446f-ade9-44891113cf38"
      },
      "execution_count": 1,
      "outputs": [
        {
          "output_type": "stream",
          "name": "stdout",
          "text": [
            "Hola Mundo\n"
          ]
        }
      ]
    },
    {
      "cell_type": "markdown",
      "source": [
        "# 2.- Programa en Python que lea 2 números, realizar la suma y desplegar la suma de los 2 números"
      ],
      "metadata": {
        "id": "YA9avcL23x45"
      }
    },
    {
      "cell_type": "code",
      "source": [
        "num1 = float(input(\"Ingrese un numero: \"))\n",
        "num2 = float(input(\"Ingrese otro numero: \"))\n",
        "\n",
        "suma = num1 + num2\n",
        "\n",
        "print(\"La suma de es\", suma)\n",
        "\n"
      ],
      "metadata": {
        "colab": {
          "base_uri": "https://localhost:8080/"
        },
        "id": "_j5x1SK_33pL",
        "outputId": "63c04f10-79da-4e32-e672-faad920a0ad7"
      },
      "execution_count": 6,
      "outputs": [
        {
          "output_type": "stream",
          "name": "stdout",
          "text": [
            "Ingrese un numero: 2.5\n",
            "Ingrese otro numero: 2.5\n",
            "La suma de es 5.0\n"
          ]
        }
      ]
    },
    {
      "cell_type": "markdown",
      "source": [
        "# 3.- Programa en Python que lea 2 números y realice las 4 operaciones básicas"
      ],
      "metadata": {
        "id": "Va8kkKEmn2sJ"
      }
    },
    {
      "cell_type": "code",
      "source": [
        "num1 = float(input(\"Ingrese un numero: \"))\n",
        "num2 = float(input(\"Ingrese otro numero: \"))\n",
        "\n",
        "suma = num1 + num2\n",
        "resta = num1 - num2\n",
        "divi = num1 / num2\n",
        "multi = num1 * num2\n",
        "\n",
        "print(\"La suma de\", num1, \"+\", num2, \"es\", suma)\n",
        "print(\"La resta de\", num1, \"-\", num2, \"es\", resta)\n",
        "print(\"La division de\", num1, \"/\", num2, \"es\", divi)\n",
        "print(\"La multiplicacion de\", num1, \"*\", num2, \"es\", multi)"
      ],
      "metadata": {
        "colab": {
          "base_uri": "https://localhost:8080/"
        },
        "id": "cRzH2ACxn_Al",
        "outputId": "02f979f6-9d28-4761-aa53-f1d2bf9d5286"
      },
      "execution_count": 7,
      "outputs": [
        {
          "output_type": "stream",
          "name": "stdout",
          "text": [
            "Ingrese un numero: 7\n",
            "Ingrese otro numero: 7\n",
            "La suma de 7.0 + 7.0 es 14.0\n",
            "La resta de 7.0 - 7.0 es 0.0\n",
            "La division de 7.0 / 7.0 es 1.0\n",
            "La multiplicacion de 7.0 * 7.0 es 49.0\n"
          ]
        }
      ]
    },
    {
      "cell_type": "markdown",
      "source": [
        "# 4.- Programa en Python Que sirva para calcular el área de un triángulo"
      ],
      "metadata": {
        "id": "TaKjGz2qpoT9"
      }
    },
    {
      "cell_type": "code",
      "source": [
        "base = float(input(\" Ingrese la base \"))\n",
        "altura = float(input(\" Ingrese la altura \"))\n",
        "\n",
        "area = (base * altura)/2\n",
        "\n",
        "print(\" El area del triangulo es \", area)"
      ],
      "metadata": {
        "colab": {
          "base_uri": "https://localhost:8080/"
        },
        "id": "9N67A1MXpwXo",
        "outputId": "20a914fd-0df7-43cc-b290-648d4e976946"
      },
      "execution_count": 8,
      "outputs": [
        {
          "output_type": "stream",
          "name": "stdout",
          "text": [
            " Ingrese la base 3\n",
            " Ingrese la altura4\n",
            " El area del triangulo es  6.0\n"
          ]
        }
      ]
    },
    {
      "cell_type": "markdown",
      "source": [
        "# 5.- Programa en Python que lea una medida en centímetros y desplegar la misma medida pero convertida en pies y pulgadas"
      ],
      "metadata": {
        "id": "vQUk6Bxaqqwy"
      }
    },
    {
      "cell_type": "code",
      "source": [
        "cant_cm = float(input(\" Ingrese la cantidad a convertir \"))\n",
        "\n",
        "pies = cant_cm / 30.48\n",
        "pulgadas = cant_cm / 2.54\n",
        "\n",
        "print(cant_cm, \" cm equivalen a \",pies,\" pies \")\n",
        "print(cant_cm, \" cm equivalen a \",pulgadas,\" pulgadas \")"
      ],
      "metadata": {
        "colab": {
          "base_uri": "https://localhost:8080/"
        },
        "id": "pO46P6_MqwF7",
        "outputId": "66a6186f-b783-49a8-a585-cbdb9c0fe73f"
      },
      "execution_count": 11,
      "outputs": [
        {
          "output_type": "stream",
          "name": "stdout",
          "text": [
            " Ingrese la cantidad a convertir 10\n",
            "10.0  cm equivalen a  0.32808398950131235  pies \n",
            "10.0  cm equivalen a  3.937007874015748  pulgadas \n"
          ]
        }
      ]
    },
    {
      "cell_type": "markdown",
      "source": [
        "# 6.- Programa en Python que lea una temperatura en grados centígrados y desplegarla en Grados Fahrenheit y grados kelvin"
      ],
      "metadata": {
        "id": "bTIat7BZxcta"
      }
    },
    {
      "cell_type": "code",
      "source": [
        "grados_c = float(input(\" Ingrese la cantidad a convertir \"))\n",
        "\n",
        "grados_f = (grados_c * (9/5)) + 32\n",
        "grados_k = grados_c + 273.15\n",
        "\n",
        "print(grados_c,\" grados Centigrados son: \",grados_f,\" grados Fahrenheit\" )\n",
        "print(grados_c,\" grados Centigrados son: \",grados_k,\" grados Kelvin\"  )"
      ],
      "metadata": {
        "colab": {
          "base_uri": "https://localhost:8080/"
        },
        "id": "fM3_jNwbxi0a",
        "outputId": "6e3e9285-2ff3-43a3-9fa4-8c06048314b6"
      },
      "execution_count": 15,
      "outputs": [
        {
          "output_type": "stream",
          "name": "stdout",
          "text": [
            " Ingrese la cantidad a convertir 10\n",
            "10.0  grados Centigrados son:  50.0  grados Fahrenheit\n",
            "10.0  grados Centigrados son:  283.15  grados Kelvin\n"
          ]
        }
      ]
    },
    {
      "cell_type": "markdown",
      "source": [
        "# 7.- Programa en Python que lea 4 calificaciones de un alumno, desplegar el promedio del alumno"
      ],
      "metadata": {
        "id": "xeGhePloznF0"
      }
    },
    {
      "cell_type": "markdown",
      "source": [],
      "metadata": {
        "id": "BXIJpeP_0THy"
      }
    },
    {
      "cell_type": "code",
      "source": [
        "cal1 = float(input(\" Ingrese su calificacion 1 \"))\n",
        "cal2 = float(input(\" Ingrese su calificacion 2 \"))\n",
        "cal3 = float(input(\" Ingrese su calificacion 3 \"))\n",
        "cal4 = float(input(\" Ingrese su calificacion 4 \"))\n",
        "\n",
        "promedio = (cal1 + cal2 + cal3 + cal4)/4\n",
        "\n",
        "print(\" Su promedio es: \",promedio)"
      ],
      "metadata": {
        "colab": {
          "base_uri": "https://localhost:8080/"
        },
        "id": "WnxkD_C1zrf-",
        "outputId": "6dde5278-b92c-47bf-dfd3-ab5aff6b6d52"
      },
      "execution_count": 17,
      "outputs": [
        {
          "output_type": "stream",
          "name": "stdout",
          "text": [
            " Ingrese su calificacion 1 100\n",
            " Ingrese su calificacion 2 100\n",
            " Ingrese su calificacion 3 100\n",
            " Ingrese su calificacion 4 100\n",
            " Su promedio es:  100.0\n"
          ]
        }
      ]
    }
  ]
}