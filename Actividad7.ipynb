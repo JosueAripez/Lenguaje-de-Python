{
  "nbformat": 4,
  "nbformat_minor": 0,
  "metadata": {
    "colab": {
      "provenance": [],
      "authorship_tag": "ABX9TyOfDly5rN0fV06gQGwLAo2V",
      "include_colab_link": true
    },
    "kernelspec": {
      "name": "python3",
      "display_name": "Python 3"
    },
    "language_info": {
      "name": "python"
    }
  },
  "cells": [
    {
      "cell_type": "markdown",
      "metadata": {
        "id": "view-in-github",
        "colab_type": "text"
      },
      "source": [
        "<a href=\"https://colab.research.google.com/github/JosueAripez/Lenguaje-de-Python/blob/main/Actividad7.ipynb\" target=\"_parent\"><img src=\"https://colab.research.google.com/assets/colab-badge.svg\" alt=\"Open In Colab\"/></a>"
      ]
    },
    {
      "cell_type": "code",
      "source": [
        "import random\n",
        "from IPython.display import clear_output"
      ],
      "metadata": {
        "id": "KILYQ_sCMhJz"
      },
      "execution_count": 25,
      "outputs": []
    },
    {
      "cell_type": "code",
      "execution_count": 26,
      "metadata": {
        "colab": {
          "base_uri": "https://localhost:8080/"
        },
        "id": "jr8IPJI2JEhu",
        "outputId": "4510b3d9-1707-4ea3-8ffe-7f7fd84dc3e2"
      },
      "outputs": [
        {
          "output_type": "stream",
          "name": "stdout",
          "text": [
            "[0]Caramelo: 8 caracteres\n",
            "[1]Cleopatra: 9 caracteres\n",
            "[2]Chai: 4 caracteres\n",
            "[3]Coffe: 5 caracteres\n",
            "[4]Frappe: 6 caracteres\n",
            "[5]Pooh: 4 caracteres\n",
            "[6]Chelsea: 7 caracteres\n"
          ]
        }
      ],
      "source": [
        "#Programa 1\n",
        "\n",
        "def nombres_lista(lista_nombres):\n",
        "    i=0\n",
        "    for nombre in lista_nombres:\n",
        "        print(f\"{[i]}{nombre}: {len(nombre)} caracteres\")\n",
        "        i=i+1\n",
        "\n",
        "nombres = [\"Caramelo\", \"Cleopatra\", \"Chai\", \"Coffe\", \"Frappe\", \"Pooh\", \"Chelsea\"]\n",
        "nombres_lista(nombres)"
      ]
    },
    {
      "cell_type": "code",
      "source": [
        "#Programa 2\n",
        "\n",
        "def lista_aleatoria():\n",
        "    lista = []\n",
        "    while len(lista) < 10:\n",
        "        numero = random.randint(30, 50)\n",
        "        if numero not in lista:\n",
        "            lista.append(numero)\n",
        "    return lista\n",
        "\n",
        "def imprimir_lista(lista):\n",
        "    for i, valor in enumerate(lista):\n",
        "        print(f\"Índice {i}: {valor}\")\n",
        "\n",
        "mi_lista = lista_aleatoria()\n",
        "\n",
        "imprimir_lista(mi_lista)"
      ],
      "metadata": {
        "colab": {
          "base_uri": "https://localhost:8080/"
        },
        "id": "Va3UmFK8Ltmm",
        "outputId": "e8a4d187-0771-4244-c28c-de5025c4184d"
      },
      "execution_count": 27,
      "outputs": [
        {
          "output_type": "stream",
          "name": "stdout",
          "text": [
            "Índice 0: 33\n",
            "Índice 1: 46\n",
            "Índice 2: 50\n",
            "Índice 3: 38\n",
            "Índice 4: 37\n",
            "Índice 5: 32\n",
            "Índice 6: 48\n",
            "Índice 7: 49\n",
            "Índice 8: 35\n",
            "Índice 9: 30\n"
          ]
        }
      ]
    },
    {
      "cell_type": "code",
      "source": [
        "#Programa 3\n",
        "\n",
        "def suma_listas(lista1, lista2):\n",
        "    if len(lista1) != len(lista2):\n",
        "        print(\"Las listas no tienen el mismo tamaño se reducira\")\n",
        "        n = min(len(lista1), len(lista2))\n",
        "        lista1 = lista1[:n]\n",
        "        lista2 = lista2[:n]\n",
        "    return [a + b for a, b in zip(lista1, lista2)]\n",
        "\n",
        "\n",
        "    lista_str = input(\"Ingresa una lista de numeros enteros separados por una coma (,) \")\n",
        "\n",
        "lista1 = []\n",
        "for elemento_str in lista_str.split(\",\"):\n",
        "    elemento_str = elemento_str.strip()\n",
        "    if elemento_str.isnumeric():\n",
        "        lista1.append(int(elemento_str))\n",
        "        \n",
        "lista2 = [1, 2, 3, 4, 5]\n",
        "lista_str = input(\"Ingresa una lista de numeros enteros separados por una coma (,) \")\n",
        "\n",
        "lista2 = []\n",
        "for elemento_str in lista_str.split(\",\"):\n",
        "    elemento_str = elemento_str.strip()\n",
        "    if elemento_str.isnumeric():\n",
        "        lista2.append(int(elemento_str))\n",
        "\n",
        "resultado = suma_listas(lista1, lista2)\n",
        "print(resultado) \n",
        "\n"
      ],
      "metadata": {
        "colab": {
          "base_uri": "https://localhost:8080/"
        },
        "id": "D29Y6UrlNyWV",
        "outputId": "eabdf3af-4ae2-4c58-98db-223a16605540"
      },
      "execution_count": 56,
      "outputs": [
        {
          "output_type": "stream",
          "name": "stdout",
          "text": [
            "Ingresa una lista de numeros enteros separados por una coma (,) 1,2,3,4,5\n",
            "[2, 4, 6, 8, 10]\n"
          ]
        }
      ]
    },
    {
      "cell_type": "code",
      "source": [
        "#Programa 4\n",
        "\n",
        "def eliminar_duplicados(lista):\n",
        "\n",
        "    elementos_unicos = set()\n",
        "\n",
        "    lista_sin_duplicados = []\n",
        "\n",
        "    for elemento in lista:\n",
        "        if elemento not in elementos_unicos:\n",
        "            elementos_unicos.add(elemento)\n",
        "            lista_sin_duplicados.append(elemento)\n",
        "\n",
        "    return lista_sin_duplicados\n",
        "\n",
        "lista_str = input(\"Ingresa una lista de numeros enteros separados por una coma (,) \")\n",
        "\n",
        "lista = []\n",
        "for elemento_str in lista_str.split(\",\"):\n",
        "    elemento_str = elemento_str.strip()\n",
        "    if elemento_str.isnumeric():\n",
        "        lista.append(int(elemento_str))\n",
        "\n",
        "lista_sin_duplicados = eliminar_duplicados(lista)\n",
        "print(\"Lista sin duplicados:\")\n",
        "print(lista_sin_duplicados)"
      ],
      "metadata": {
        "colab": {
          "base_uri": "https://localhost:8080/"
        },
        "id": "I6Lfo9LpQbr7",
        "outputId": "f54e0c32-05a7-41a8-9ba0-dd49541f9c22"
      },
      "execution_count": 32,
      "outputs": [
        {
          "output_type": "stream",
          "name": "stdout",
          "text": [
            "Ingresa una lista de numeros enteros separados por una coma (,) 5,4,3,2,2,2,1,\n",
            "Lista sin duplicados :\n",
            "[5, 4, 3, 2, 1]\n"
          ]
        }
      ]
    },
    {
      "cell_type": "code",
      "source": [
        "#Programa 5\n",
        "\n",
        "def calcular_media_mediana(lista):\n",
        "    media = sum(lista) / len(lista)\n",
        "\n",
        "    lista_ordenada = sorted(lista)\n",
        "\n",
        "    if len(lista_ordenada) % 2 == 0:\n",
        "        mediana = (lista_ordenada[len(lista_ordenada) // 2 - 1] + lista_ordenada[len(lista_ordenada) // 2]) / 2\n",
        "    else:\n",
        "        mediana = lista_ordenada[len(lista_ordenada) // 2]\n",
        "\n",
        "    return (media, mediana)\n",
        "\n",
        "lista_str = input(\"Ingresa una lista de numeros enteros separados por una coma (,) \")\n",
        "\n",
        "lista = []\n",
        "for elemento_str in lista_str.split(\",\"):\n",
        "    elemento_str = elemento_str.strip()\n",
        "    if elemento_str.isnumeric():\n",
        "        lista.append(int(elemento_str))\n",
        "\n",
        "media, mediana = calcular_media_mediana(lista)\n",
        "\n",
        "print(\"Lista:\", lista)\n",
        "print(\"Media:\", media)\n",
        "print(\"Mediana:\", mediana)"
      ],
      "metadata": {
        "colab": {
          "base_uri": "https://localhost:8080/"
        },
        "id": "fNpLmaDXRWfO",
        "outputId": "906fd982-660b-4336-f3c0-46c8b124c7ac"
      },
      "execution_count": 60,
      "outputs": [
        {
          "output_type": "stream",
          "name": "stdout",
          "text": [
            "Ingresa una lista de numeros enteros separados por una coma (,) 1,2,3,4,5\n",
            "Lista: [1, 2, 3, 4, 5]\n",
            "Media: 3.0\n",
            "Mediana: 3\n"
          ]
        }
      ]
    },
    {
      "cell_type": "code",
      "source": [
        "#Programa 6"
      ],
      "metadata": {
        "id": "pUvOsMn7cvzh"
      },
      "execution_count": 41,
      "outputs": []
    },
    {
      "cell_type": "code",
      "source": [
        "def menu():\n",
        "   \n",
        "    print(\"M E N U \")\n",
        "    print(\"1)Nombre Lista\")\n",
        "    print(\"2)Lista Aleatoria\")\n",
        "    print(\"3)Sumar Listas\")\n",
        "    print(\"4)Eliminar Numeros Duplicados\")\n",
        "    print(\"5)Calcular Media y Mediana\")\n",
        "    print(\"0)Salir\")"
      ],
      "metadata": {
        "id": "cBvzqZIjoRph"
      },
      "execution_count": 43,
      "outputs": []
    },
    {
      "cell_type": "code",
      "source": [
        "while True:\n",
        "    menu()\n",
        "    op = int(input(\"Ingresa un numero segun lo que deseas hacer \"))\n",
        "    if op == 1:\n",
        "        \n",
        "        nombres_lista(nombres)\n",
        "        input(\"Presiona Enter para borrar \")\n",
        "        clear_output()\n",
        "        continue\n",
        "  \n",
        "    elif op == 2:\n",
        "        lista_aleatoria()\n",
        "        imprimir_lista(lista)\n",
        "        input(\"Presiona Enter para borrar \")\n",
        "        clear_output()\n",
        "        continue\n",
        "    \n",
        "    elif op == 3:\n",
        "        suma_listas(lista1, lista2)\n",
        "        print(resultado)\n",
        "        input(\"Presiona Enter para borrar \")\n",
        "        clear_output()\n",
        "        continue\n",
        "  \n",
        "    elif op == 4:\n",
        "        eliminar_duplicados()\n",
        "        input(\"Presiona Enter para borrar \")\n",
        "        clear_output()\n",
        "        continue\n",
        "    \n",
        "    elif op == 5:\n",
        "        calcular_media_mediana(lista)\n",
        "        input(\"Presiona Enter para borrar \")\n",
        "        clear_output()\n",
        "        continue\n",
        "    \n",
        "    elif op == 0:\n",
        "        break"
      ],
      "metadata": {
        "colab": {
          "base_uri": "https://localhost:8080/"
        },
        "id": "PohvlWQioWgL",
        "outputId": "446ee437-1de1-4cb4-b8f1-8c9e0e233e2c"
      },
      "execution_count": 63,
      "outputs": [
        {
          "name": "stdout",
          "output_type": "stream",
          "text": [
            "M E N U \n",
            "1)Nombre Lista\n",
            "2)Lista Aleatoria\n",
            "3)Sumar Listas\n",
            "4)Eliminar Numeros Duplicados\n",
            "5)Calcular Media y Mediana\n",
            "0)Salir\n",
            "Ingresa un numero segun lo que deseas hacer 0\n"
          ]
        }
      ]
    }
  ]
}