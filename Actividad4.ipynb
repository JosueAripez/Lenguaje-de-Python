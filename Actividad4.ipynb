{
  "nbformat": 4,
  "nbformat_minor": 0,
  "metadata": {
    "colab": {
      "provenance": [],
      "authorship_tag": "ABX9TyN8mmdlPbtlLHmuDz7NuFEk",
      "include_colab_link": true
    },
    "kernelspec": {
      "name": "python3",
      "display_name": "Python 3"
    },
    "language_info": {
      "name": "python"
    }
  },
  "cells": [
    {
      "cell_type": "markdown",
      "metadata": {
        "id": "view-in-github",
        "colab_type": "text"
      },
      "source": [
        "<a href=\"https://colab.research.google.com/github/JosueAripez/Lenguaje-de-Python/blob/main/Actividad4.ipynb\" target=\"_parent\"><img src=\"https://colab.research.google.com/assets/colab-badge.svg\" alt=\"Open In Colab\"/></a>"
      ]
    },
    {
      "cell_type": "markdown",
      "source": [
        "# 1.- Programa en python   que lea 3 calificaciones calcule el promedio del alumno y desplegar: \n",
        "\n",
        "#Si prom < 30 Repetir \n",
        "\n",
        "#Si prom >=30 y prom <60 extraordinario \n",
        "\n",
        "#Si prom >=60 y prom <70 suficiente \n",
        "\n",
        "#Si prom >=70 y prom <80 Regular \n",
        "\n",
        "#Si prom >=80 y prom <90 bien \n",
        "\n",
        "#Si prom >=90 y prom <98 muy bien \n",
        "\n",
        "#Si prom >=98 y prom <=100 excelente \n",
        "\n",
        "#Si prom >100 Error en promedio "
      ],
      "metadata": {
        "id": "h0ajBNhL5eWQ"
      }
    },
    {
      "cell_type": "code",
      "source": [
        "try:\n",
        "\n",
        "  cal1 = int(input(\"Ingresa la calificacion 1: \"))\n",
        "  cal2 = int(input(\"Ingresa la calificacion 2: \"))\n",
        "  cal3 = int(input(\"Ingresa la calificacion 3: \"))\n",
        "\n",
        "  promedio = (cal1 + cal2 + cal3) / 3\n",
        "\n",
        "  print(f\"Tu promedio es: {promedio}\")\n",
        "\n",
        "  if promedio < 30:\n",
        "      print(\"Repetir\")\n",
        "  elif promedio < 60:\n",
        "      print(\"Extraordinario\")\n",
        "  elif promedio < 70:\n",
        "      print(\"Suficiente\")\n",
        "  elif promedio < 80:\n",
        "      print(\"Regular\")\n",
        "  elif promedio < 90:\n",
        "      print(\"Bien\")\n",
        "  elif promedio < 98:\n",
        "      print(\"Muy bien\")\n",
        "  elif promedio <= 100:\n",
        "      print(\"Excelente\")\n",
        "  else:\n",
        "      print(\"Error en promedio\")\n",
        "\n",
        "except:\n",
        "  print(\"Debes ingresar numeros\")"
      ],
      "metadata": {
        "colab": {
          "base_uri": "https://localhost:8080/"
        },
        "id": "48nPLFKA6LC_",
        "outputId": "7a665ea2-c8c2-4bd5-8023-c747f65b1027"
      },
      "execution_count": 18,
      "outputs": [
        {
          "output_type": "stream",
          "name": "stdout",
          "text": [
            "Ingresa la calificacion 1: 100\n",
            "Ingresa la calificacion 2: 100\n",
            "Ingresa la calificacion 3: R\n",
            "Debes ingresar numeros\n"
          ]
        }
      ]
    },
    {
      "cell_type": "markdown",
      "source": [
        "#2.- Programa en Python que sirva para calcular el salario semanal de un trabajador donde se obtiene como dato de entrada las horas semanales trabajadas, el salario por hora. \n",
        "\n",
        "#El programa deberá calcular el salario normal, salario extra y salario total, considerando lo siguiente: \n",
        "\n",
        "#Jornada Normal de 40 horas. \n",
        "#El salario normal se considera las horas trabajadas menores o igual a la jornada normal\n",
        "#Salario extra se considera las horas trabajadas mayores a la jornada normal y se pagan dobles las primeras 9 y triples a partir de la décima hora extra \n"
      ],
      "metadata": {
        "id": "jOurfjbs-v_2"
      }
    },
    {
      "cell_type": "code",
      "source": [
        "try:\n",
        "\n",
        "  horas_trabajadas = int(input(\"Ingresa las horas trabajadas en la semana: \"))\n",
        "  salario_hora = float(input(\"Ingresa el salario por hora: \"))\n",
        "\n",
        "  jornada_normal = 40\n",
        "  salario_normal = 0\n",
        "  salario_extra = 0\n",
        "  salario_total = 0\n",
        "\n",
        "  if horas_trabajadas <= jornada_normal:\n",
        "      salario_normal = horas_trabajadas * salario_hora\n",
        "  else:\n",
        "      horas_normales = jornada_normal * salario_hora\n",
        "      horas_extra = horas_trabajadas - jornada_normal\n",
        "    \n",
        "      if horas_extra <= 9:\n",
        "        salario_extra = horas_extra * salario_hora * 2\n",
        "      else:\n",
        "          salario_extra = (9 * salario_hora * 2) + ((horas_extra - 9) * salario_hora * 3)\n",
        "      salario_normal = horas_normales\n",
        "\n",
        "  salario_total = salario_normal + salario_extra\n",
        "\n",
        "  print(\"Salario por hora: \", salario_hora)\n",
        "  print(\"Horas trabajadas: \", horas_trabajadas)\n",
        "  print(\"Salario normal: \", salario_normal)\n",
        "  print(\"Salario extra: \", salario_extra)\n",
        "  print(\"Salario total: \", salario_total)\n",
        "\n",
        "except:\n",
        "  print(\"Debes ingresar numeros\")"
      ],
      "metadata": {
        "colab": {
          "base_uri": "https://localhost:8080/"
        },
        "id": "qF5m6xzY--EM",
        "outputId": "3417c556-00c8-4224-fa22-33009420cb18"
      },
      "execution_count": 20,
      "outputs": [
        {
          "output_type": "stream",
          "name": "stdout",
          "text": [
            "Ingresa las horas trabajadas en la semana: J\n",
            "Debes ingresar numeros\n"
          ]
        }
      ]
    },
    {
      "cell_type": "markdown",
      "source": [
        "#3.- Programa en Python que sirva para calcular el Total a pagar por consumo de agua, donde el dato de entrada son los M3 de agua consumidos, Tomar en cuenta que se cobra escalonada de la Siguiente manera: \n",
        "\n",
        "#Rango1: 0 al 4 M3 $50 x facturación sin importar cuánto consumió en este rango \n",
        "\n",
        "#Rango2: 5 a 15 M3 $8.00 x M3 \n",
        "\n",
        "#Rango3: 16 a 50 M3 $10.00 x M3 \n",
        "\n",
        "#Rango4: 51 M3 en adelante $11.00 x M3 "
      ],
      "metadata": {
        "id": "h6wIVAaeKIPy"
      }
    },
    {
      "cell_type": "code",
      "source": [
        "try:\n",
        "\n",
        "  m3_consumidos = float(input(\"Ingresa la cantidad de M3 consumidos: \"))\n",
        "\n",
        "  if m3_consumidos <= 4:\n",
        "      subtotal = 50\n",
        "  elif m3_consumidos <= 15:\n",
        "      subtotal = 50 + ((m3_consumidos - 4) * 8)\n",
        "  elif m3_consumidos <= 50:\n",
        "      subtotal = 50 + (11 * 8) + ((m3_consumidos - 15) * 10)\n",
        "  else:\n",
        "      subtotal = 50 + (11 * 8) + (35 * 10) + ((m3_consumidos - 50) * 11)\n",
        "\n",
        "  iva = subtotal * 0.16\n",
        "  total = subtotal + iva\n",
        "\n",
        "  print(\"Subtotal: $\", subtotal)\n",
        "  print(\"IVA (16%): $\", iva)\n",
        "  print(\"Total a pagar: $\", total)\n",
        "\n",
        "except:\n",
        "  print(\"Debes ingresar numeros\")"
      ],
      "metadata": {
        "colab": {
          "base_uri": "https://localhost:8080/"
        },
        "id": "aMnPBCQ0KawG",
        "outputId": "0e37b04c-55b4-44db-9041-4c744c9e37db"
      },
      "execution_count": 22,
      "outputs": [
        {
          "output_type": "stream",
          "name": "stdout",
          "text": [
            "Ingresa la cantidad de M3 consumidos: A\n",
            "Debes ingresar numeros\n"
          ]
        }
      ]
    },
    {
      "cell_type": "markdown",
      "source": [
        "#4- En la materia de Metodología de la programación se aplican 5 exámenes, calcular el promedio final de la materia donde la calificación menor de los exámenes se anula y el promedio se calcula en base a 4 exámenes.\n",
        "\n",
        "#Desplegar el promedio final. y cual es la mas baja que se elimino."
      ],
      "metadata": {
        "id": "Wa_2TkOPK2Ng"
      }
    },
    {
      "cell_type": "code",
      "source": [
        "try:\n",
        "\n",
        "  cal1 = int(input(\"Ingresa la calificacion 1: \"))\n",
        "  cal2 = int(input(\"Ingresa la calificacion 2: \"))\n",
        "  cal3 = int(input(\"Ingresa la calificacion 3: \"))\n",
        "  cal4 = int(input(\"Ingresa la calificacion 4: \"))\n",
        "  cal5 = int(input(\"Ingresa la calificacion 5: \"))\n",
        " \n",
        "  menor = cal1\n",
        "  if cal2 < menor:\n",
        "      menor = cal2\n",
        "  elif cal3 < menor:\n",
        "      menor = cal3\n",
        "  elif cal4 < menor:\n",
        "      menor = cal4\n",
        "  else: \n",
        "    cal5 < menor\n",
        "    menor = cal5\n",
        "                \n",
        "  promedio = ((cal1 + cal2 + cal3 + cal4 + cal5) - menor) / 4\n",
        "\n",
        "  print(\"La calificacion anulada fue: \", menor)\n",
        "  print(\"El promedio final es de: \", promedio)\n",
        "\n",
        "except:\n",
        "  print(\"Debes ingresar numeros\")"
      ],
      "metadata": {
        "colab": {
          "base_uri": "https://localhost:8080/"
        },
        "id": "MjfqLwPxK9S-",
        "outputId": "c763edcf-5b38-47bb-944f-1ec8938e2cca"
      },
      "execution_count": 23,
      "outputs": [
        {
          "output_type": "stream",
          "name": "stdout",
          "text": [
            "Ingresa la calificacion 1: 100\n",
            "Ingresa la calificacion 2: 100\n",
            "Ingresa la calificacion 3: 100\n",
            "Ingresa la calificacion 4: F\n",
            "Debes ingresar numeros\n"
          ]
        }
      ]
    },
    {
      "cell_type": "markdown",
      "source": [
        "#5.- Programa en Python que sirva para el juego del CHINCHAMPU (Piedra, Papel, Tijera) para 1 jugador y la computadora"
      ],
      "metadata": {
        "id": "mwJd3gN5K9rs"
      }
    },
    {
      "cell_type": "code",
      "source": [
        "try:\n",
        "\n",
        "  import random\n",
        "  opciones = [\"Piedra\", \"Papel\", \"Tijera\"]\n",
        "\n",
        "  jugador = int(input(\"Ingresa tu opción 1)Piedra 2)Papel 3)Tijera\\n \"))\n",
        "\n",
        "  opcion_computadora = random.randint(1, 3)\n",
        "\n",
        "  print(\"Usaste : \", opciones[jugador - 1])\n",
        "  print(\"La computadora Uso: \", opciones[opcion_computadora - 1])\n",
        "\n",
        "  if jugador == opcion_computadora:\n",
        "     print(\"Empate \")\n",
        "  elif jugador == 1 and opcion_computadora == 3 or jugador == 2 and opcion_computadora == 1 or jugador == 3 and opcion_computadora == 2:\n",
        "     print(\"Ganaste \")\n",
        "  else:\n",
        "      print(\"Perdiste \")\n",
        "\n",
        "except:\n",
        "  print(\"Debes ingresar numeros\")"
      ],
      "metadata": {
        "colab": {
          "base_uri": "https://localhost:8080/"
        },
        "id": "3O2T8npbLgNJ",
        "outputId": "aa7dbc36-0608-40a6-dd98-9ca9a5e8991f"
      },
      "execution_count": 24,
      "outputs": [
        {
          "output_type": "stream",
          "name": "stdout",
          "text": [
            "Ingresa tu opción 1)Piedra 2)Papel 3)Tijera\n",
            " B\n",
            "Debes ingresar numeros\n"
          ]
        }
      ]
    },
    {
      "cell_type": "markdown",
      "source": [
        "#6.- Programa en Python que lea 4 números enteros desplegar cuales el menor, cual es mayor\n",
        "\n"
      ],
      "metadata": {
        "id": "2PCkqFYtPPPV"
      }
    },
    {
      "cell_type": "code",
      "source": [
        "try:\n",
        "\n",
        "  num1 = int(input(\"Ingresa el numero 1: \"))\n",
        "  num2 = int(input(\"Ingresa el numero 2: \"))\n",
        "  num3 = int(input(\"Ingresa el numero 3: \"))\n",
        "  num4 = int(input(\"Ingresa el numero 4: \"))\n",
        "\n",
        "  minimo = num1\n",
        "  if num2 < minimo:\n",
        "      minimo = num2\n",
        "  if num3 < minimo:\n",
        "      minimo = num3\n",
        "  if num4 < minimo:\n",
        "      minimo = num4\n",
        "\n",
        "  maximo = num1\n",
        "  if num2 > maximo:\n",
        "      maximo = num2\n",
        "  if num3 > maximo:\n",
        "      maximo = num3\n",
        "  if num4 > maximo:\n",
        "      maximo = num4\n",
        "\n",
        "\n",
        "  print(\"El numero menor es: \", minimo)\n",
        "  print(\"El numero mayor es: \", maximo)\n",
        "\n",
        "except:\n",
        "  print(\"Debes ingresar numeros\")"
      ],
      "metadata": {
        "colab": {
          "base_uri": "https://localhost:8080/"
        },
        "id": "UgIle1mRPVg2",
        "outputId": "3a56990d-0e13-4c27-cb8d-5f57f3b1caa3"
      },
      "execution_count": 25,
      "outputs": [
        {
          "output_type": "stream",
          "name": "stdout",
          "text": [
            "Ingresa el numero 1: 7\n",
            "Ingresa el numero 2: 8\n",
            "Ingresa el numero 3: 9\n",
            "Ingresa el numero 4: H\n",
            "Debes ingresar numeros\n"
          ]
        }
      ]
    },
    {
      "cell_type": "markdown",
      "source": [
        "#7.- Programa en Python que sirva para calcular el área de un triangulo, los datos de entrada deben ser forzosamente de tipo real\n",
        "\n"
      ],
      "metadata": {
        "id": "QqVxLgOCRLFu"
      }
    },
    {
      "cell_type": "code",
      "source": [
        "try:\n",
        "  \n",
        "  base = float(input(\"Ingresa la base del triangulo: \"))\n",
        "  altura = float(input(\"Ingresa la altura del triangulo: \"))\n",
        "\n",
        "  area = (base * altura) / 2\n",
        "\n",
        "  print(\"El area del triangulo es: \", area)\n",
        "\n",
        "except:\n",
        "  print(\"Debes ingresar numeros\")"
      ],
      "metadata": {
        "colab": {
          "base_uri": "https://localhost:8080/"
        },
        "id": "6vuJFhexRQwt",
        "outputId": "8f98c62a-59ca-4521-a1e7-1a9fd79c0a67"
      },
      "execution_count": 26,
      "outputs": [
        {
          "output_type": "stream",
          "name": "stdout",
          "text": [
            "Ingresa la base del triangulo: P\n",
            "Debes ingresar numeros\n"
          ]
        }
      ]
    },
    {
      "cell_type": "markdown",
      "source": [
        "#8.- Programa en Python que sirva para calcular el área de un circulo"
      ],
      "metadata": {
        "id": "nCrzVGDMSBZE"
      }
    },
    {
      "cell_type": "code",
      "source": [
        "try:\n",
        "\n",
        "  radio = float(input(\"Ingresa el radio del crrculo: \"))\n",
        "  \n",
        "  area = 3.1416 * (radio**2)\n",
        "\n",
        "  print(\"El área del círculo es:\", area)\n",
        "\n",
        "\n",
        "except:\n",
        "  print(\"Debes ingresar numeros\")"
      ],
      "metadata": {
        "colab": {
          "base_uri": "https://localhost:8080/"
        },
        "id": "6QAnleM-SG-h",
        "outputId": "6ff812b7-b4c8-4356-bc6c-7926b6aad921"
      },
      "execution_count": 27,
      "outputs": [
        {
          "output_type": "stream",
          "name": "stdout",
          "text": [
            "Ingresa el radio del crrculo: C\n",
            "Debes ingresar numeros\n"
          ]
        }
      ]
    }
  ]
}