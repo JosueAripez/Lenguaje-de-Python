{
  "nbformat": 4,
  "nbformat_minor": 0,
  "metadata": {
    "colab": {
      "provenance": [],
      "authorship_tag": "ABX9TyMuMeePdLnzLy3TrlxC3ENk",
      "include_colab_link": true
    },
    "kernelspec": {
      "name": "python3",
      "display_name": "Python 3"
    },
    "language_info": {
      "name": "python"
    }
  },
  "cells": [
    {
      "cell_type": "markdown",
      "metadata": {
        "id": "view-in-github",
        "colab_type": "text"
      },
      "source": [
        "<a href=\"https://colab.research.google.com/github/JosueAripez/Lenguaje-de-Python/blob/main/Actividad10.ipynb\" target=\"_parent\"><img src=\"https://colab.research.google.com/assets/colab-badge.svg\" alt=\"Open In Colab\"/></a>"
      ]
    },
    {
      "cell_type": "markdown",
      "source": [
        "# **MAIN**"
      ],
      "metadata": {
        "id": "AB_9-OZvHkMI"
      }
    },
    {
      "cell_type": "code",
      "execution_count": 18,
      "metadata": {
        "id": "vsiccc-sC5Zl",
        "colab": {
          "base_uri": "https://localhost:8080/"
        },
        "outputId": "f00e89c6-3c35-4db1-b72f-fcb87b5b6387"
      },
      "outputs": [
        {
          "output_type": "stream",
          "name": "stdout",
          "text": [
            "Looking in indexes: https://pypi.org/simple, https://us-python.pkg.dev/colab-wheels/public/simple/\n",
            "Requirement already satisfied: pyyaml in /usr/local/lib/python3.9/dist-packages (6.0)\n"
          ]
        }
      ],
      "source": [
        "!pip install kora -q\n",
        "!pip install pyyaml\n",
        "from IPython.display import clear_output\n",
        "import random\n",
        "import json\n",
        "import yaml\n",
        "import pandas as pd"
      ]
    },
    {
      "cell_type": "code",
      "source": [
        "def Vali_Num(msge,msgError2=\"Error, intenta de uevo\"):\n",
        "    while True:\n",
        "        try:\n",
        "            num = int(input(f\"{msge}\"))\n",
        "        except:\n",
        "            print (msgError2)\n",
        "            continue\n",
        "        else:\n",
        "            break\n",
        "    return num"
      ],
      "metadata": {
        "id": "qom8gbz5PVDT"
      },
      "execution_count": 19,
      "outputs": []
    },
    {
      "cell_type": "code",
      "source": [
        "# Vortaro = Diccionario en Esperanto"
      ],
      "metadata": {
        "id": "_yMTjUQfR1ps"
      },
      "execution_count": 20,
      "outputs": []
    },
    {
      "cell_type": "markdown",
      "source": [
        "# **PROGRAMA**"
      ],
      "metadata": {
        "id": "86yP9bpdHxe4"
      }
    },
    {
      "cell_type": "code",
      "source": [
        "def Agregar_Automatico(Lista_Vortaro):\n",
        "    clear_output()\n",
        "    Registro = [\"ID\",\"Nombre\",\"Ap.Paterno\",\"Ap.Materno\",\"Cargo\",\"Sexo\"]\n",
        "    Nombre_Hombre = [\"Josue\",\"Francisco\", \"Daniel\",\"Leonardo\",\"Gael\",\"Ricardo\",\"Isaac\"]\n",
        "    Nombre_Mujer = [\"Brisa\",\"Fernanda\",\"Blanca\",\"Estela\",\"Julia\",\"Jessica\",\"Jazmin\"]\n",
        "    Apellido_Paterno = [\"Rojas\",\"Bañuelos\",\"Leyva\",\"Jacobo\",\"Herandez\",\"Ybarra\",\"Robins\"]\n",
        "    Apellido_Materno = [\"Aripez\",\"Escamilla\",\"Bustamante\",\"Trujillo\",\"Vega\",\"Ceja\",\"Martin\"]\n",
        "    Cargo = [\"Supervisor\",\"Tecnico\",\"Ingeniero\",\"Gerente\",\"Director\",\"Operador\",\"Asociado\"]\n",
        "    Sexo = [\"H\",\"M\"]\n",
        "    while True: \n",
        "        Datos_List=[]\n",
        "        Repetido = False\n",
        "        while Repetido == False:\n",
        "            clear_output()\n",
        "            id = random.randint(300000,400000)\n",
        "            Repetido = Verificar_Id(Lista_Vortaro,id)\n",
        "        Datos_List.append(id)\n",
        "        HM =random.randint(1,2)\n",
        "        if HM == 1:\n",
        "            No_Nombre = random.randint(1,2)\n",
        "            if No_Nombre == 1:\n",
        "                Datos_List.append(random.choice(Nombre_Hombre))\n",
        "            else:\n",
        "                nombre = f\"{random.choice(Nombre_Hombre)} {random.choice(Nombre_Hombre)}\"\n",
        "                Datos_List.append(nombre)\n",
        "        else:\n",
        "            No_Nombre = random.randint(1,2)\n",
        "            if No_Nombre == 1:\n",
        "                Datos_List.append(random.choice(Nombre_Mujer))\n",
        "            else:\n",
        "                nombre = f\"{random.choice(Nombre_Mujer)} {random.choice(Nombre_Mujer)}\"\n",
        "                Datos_List.append(nombre)\n",
        "        Datos_List.append(random.choice(Apellido_Paterno))\n",
        "        Datos_List.append(random.choice(Apellido_Materno))\n",
        "        Datos_List.append(random.choice(Cargo))\n",
        "        if HM == 1:\n",
        "            Datos_List.append(Sexo[0])\n",
        "        else:\n",
        "            Datos_List.append(Sexo[1])\n",
        "        dic = dict(zip(Registro,Datos_List))\n",
        "        Lista_Vortaro.append(dic)\n",
        "        print(\"Se agrego correctamente el Registro\")\n",
        "        op = Vali_Num(\"Agregra nuevo Registro |1.- Si | 2.- No|:: \")\n",
        "        if op == 2:\n",
        "            break"
      ],
      "metadata": {
        "id": "LmHYQQFBYPni"
      },
      "execution_count": 21,
      "outputs": []
    },
    {
      "cell_type": "code",
      "source": [
        "def Agregar_Manual(Lista_Vortaro):\n",
        "    clear_output()\n",
        "    Registro = [\"ID\",\"Nombre\",\"Apellido Paterno\",\"Apellido Materno\",\"Cargo\",\"Sexo\"]\n",
        "    while True:\n",
        "        Repetido = False\n",
        "        Datos_List = []\n",
        "        while Repetido == False:\n",
        "            id = Vali_Num(\"ID: \",300000,400000)\n",
        "            Repetido = Verificar_Id(Lista_Vortaro,id)\n",
        "        Datos_List.append(id)\n",
        "        nom = input(\"Nombre (s): \")\n",
        "        Datos_List.append(nom)\n",
        "        appat = input(\"Apellido Paterno: \")\n",
        "        Datos_List.append(appat)\n",
        "        apmat = input(\"Apellido Materno: \")\n",
        "        Datos_List.append(apmat)\n",
        "        puest = input(\"Cargo: \")\n",
        "        Datos_List.append(puest)\n",
        "        sex = input(\"Sexo |H - Hombre | M - Mujer|: \")\n",
        "        Datos_List.append(sex)\n",
        "        dic = dict(zip(Registro,Datos_List))\n",
        "        Lista_Vortaro.append(dic)\n",
        "        print(\"Se agrego correctamente el Registro\")\n",
        "        op = Vali_Num(\"Agregra nuevo Registro |1.- Si | 2.- No|: \",1,2)\n",
        "        if op == 2:\n",
        "            break"
      ],
      "metadata": {
        "id": "w81pLN2JYULD"
      },
      "execution_count": 22,
      "outputs": []
    },
    {
      "cell_type": "code",
      "source": [
        "def Imprime(Lista_Vortaro,Verificar_Orden):\n",
        "    clear_output()\n",
        "    op = random.randint(1,3)\n",
        "    if Verificar_Orden == 1:\n",
        "        lista_ord = sorted(Lista_Vortaro, key=lambda x: x[\"ID\"])\n",
        "        if op == 1:\n",
        "            print(yaml.dump(lista_ord,sort_keys=False,default_flow_style=False))\n",
        "        elif op == 2:\n",
        "            print(json.dumps(lista_ord, sort_keys=False, indent=2))\n",
        "        elif op == 3:\n",
        "            salida=pd.DataFrame(lista_ord)\n",
        "            print(salida)\n",
        "    else:\n",
        "        if op == 1:\n",
        "            print(yaml.dump(Lista_Vortaro,sort_keys=False,default_flow_style=False))\n",
        "        elif op == 2:\n",
        "            print(json.dumps(Lista_Vortaro, sort_keys=False, indent=2))\n",
        "        elif op == 3:\n",
        "            salida=pd.DataFrame(Lista_Vortaro)\n",
        "            print(salida)"
      ],
      "metadata": {
        "id": "_bAjrtE5YWgD"
      },
      "execution_count": 23,
      "outputs": []
    },
    {
      "cell_type": "code",
      "source": [
        "def Buscar(Lista_Vortaro):\n",
        "    clear_output()\n",
        "    dic_encontrado = []\n",
        "    encontrado = False\n",
        "    id_busq = Vali_Num(\"Ingresa el ID para Buscar: \",300000,400000)\n",
        "    for diccionario in Lista_Vortaro:\n",
        "        if diccionario.get(\"ID\") == id_busq:\n",
        "            print(f\"Se encontro el siguiente ID {id_busq}\")\n",
        "            dic_encontrado.append(diccionario)\n",
        "            salida=pd.DataFrame(dic_encontrado)\n",
        "            print(salida)\n",
        "            encontrado = True\n",
        "    if not encontrado:\n",
        "        print(f\"No se encontro ningun ID {id_busq}\")"
      ],
      "metadata": {
        "id": "UegkYu3LYYhJ"
      },
      "execution_count": 24,
      "outputs": []
    },
    {
      "cell_type": "code",
      "source": [
        "def Ordenar_Vortaro(Lista_Vortaro,Verificar_Orden):\n",
        "    clear_output()\n",
        "    if Verificar_Orden == 1:\n",
        "        print(\"La lista ya se encotraba ordenada\")\n",
        "    else:\n",
        "        print(\"Lista ordenada\")\n",
        "        return 1"
      ],
      "metadata": {
        "id": "U73ZwK97Yax0"
      },
      "execution_count": 25,
      "outputs": []
    },
    {
      "cell_type": "code",
      "source": [
        "def Eliminar(Lista_Vortaro):\n",
        "    clear_output()\n",
        "    encontrado = False\n",
        "    id_Eliminar = Vali_Num(\"Ingresa el ID para Eliminar: \")\n",
        "    for i, diccionario in enumerate(Lista_Vortaro):\n",
        "        if diccionario.get(\"ID\") == id_Eliminar:\n",
        "            print(f\"Eliminaste al siguiente ID: {id_Eliminar}\")\n",
        "            del Lista_Vortaro[i]\n",
        "            encontrado = True\n",
        "    if not encontrado:\n",
        "        print(f\"ID no encontrado {id_Eliminar}\")"
      ],
      "metadata": {
        "id": "36u5ZNonYfhp"
      },
      "execution_count": 26,
      "outputs": []
    },
    {
      "cell_type": "code",
      "source": [
        "def Verificar_Id(Lista_Vortaro,id):\n",
        "    for diccionario in Lista_Vortaro:\n",
        "        if diccionario.get(\"ID\") == id:\n",
        "            print(\"ID ya registrado\")\n",
        "            return False\n",
        "    return True"
      ],
      "metadata": {
        "id": "yIqMXJWBYf8w"
      },
      "execution_count": 27,
      "outputs": []
    },
    {
      "cell_type": "markdown",
      "source": [
        "# **MENU Y EJECUCION**"
      ],
      "metadata": {
        "id": "bncBId1YIHKL"
      }
    },
    {
      "cell_type": "code",
      "source": [
        "def menu():\n",
        "    print(\"----------MENU----------\")\n",
        "    print(\"1.- Agregar (Automatico)\")\n",
        "    print(\"2.- Agregar (Manual)\")\n",
        "    print(\"3.- Imprimir Lista\")\n",
        "    print(\"4.- Buscar\")\n",
        "    print(\"5.- Ordenar\")\n",
        "    print(\"6.- Eliminar\")\n",
        "    print(\"7.- Borrar Toda la Lista\")\n",
        "    print(\"0.- Salir\")"
      ],
      "metadata": {
        "id": "TtLg8CY_Yh_i"
      },
      "execution_count": 28,
      "outputs": []
    },
    {
      "cell_type": "code",
      "source": [
        "Lista_Vortaro =[]\n",
        "Verificar_Orden = 0\n",
        "while True:\n",
        "    menu()\n",
        "    op = Vali_Num(\"Ingresa el numero segun lo que desea hacer: \")\n",
        "    if op == 1:\n",
        "        Agregar_Automatico(Lista_Vortaro)\n",
        "        Verificar_Orden = 0\n",
        "        input(\"Enter para borrar\")\n",
        "        clear_output()\n",
        "        continue\n",
        "    elif op == 2:\n",
        "        Agregar_Manual(Lista_Vortaro)\n",
        "        Verificar_Orden = 0\n",
        "        input(\"Enter para borrar\")\n",
        "        clear_output()\n",
        "        continue\n",
        "    elif op == 3:\n",
        "        Imprime(Lista_Vortaro,Verificar_Orden)\n",
        "        input(\"Enter para borrar\")\n",
        "        clear_output()\n",
        "        continue\n",
        "    elif op == 4:\n",
        "        Buscar(Lista_Vortaro)\n",
        "        input(\"Enter para borrar\")\n",
        "        clear_output()\n",
        "        continue\n",
        "    elif op == 5:\n",
        "        Verificar_Orden = Ordenar_Vortaro(Lista_Vortaro,Verificar_Orden)\n",
        "        input(\"Enter para borrar\")\n",
        "        clear_output()\n",
        "        continue\n",
        "    elif op == 6:\n",
        "        Eliminar(Lista_Vortaro)\n",
        "        input(\"Enter para borrar\")\n",
        "        clear_output()\n",
        "        continue\n",
        "    elif op == 7:\n",
        "        Lista_Vortaro = []\n",
        "    elif op == 0:\n",
        "        break"
      ],
      "metadata": {
        "colab": {
          "base_uri": "https://localhost:8080/"
        },
        "id": "uV-s2gSkYmEq",
        "outputId": "eb2ed168-9434-4c5c-f911-58f57975ad4f"
      },
      "execution_count": 29,
      "outputs": [
        {
          "name": "stdout",
          "output_type": "stream",
          "text": [
            "----------MENU----------\n",
            "1.- Agregar (Automatico)\n",
            "2.- Agregar (Manual)\n",
            "3.- Imprimir Lista\n",
            "4.- Buscar\n",
            "5.- Ordenar\n",
            "6.- Eliminar\n",
            "7.- Borrar Toda la Lista\n",
            "0.- Salir\n",
            "Error, intenta de uevo\n",
            "Ingresa el numero segun lo que desea hacer: 0\n"
          ]
        }
      ]
    }
  ]
}