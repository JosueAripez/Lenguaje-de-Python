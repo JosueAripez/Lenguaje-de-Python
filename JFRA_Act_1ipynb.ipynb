{
  "nbformat": 4,
  "nbformat_minor": 0,
  "metadata": {
    "colab": {
      "provenance": [],
      "authorship_tag": "ABX9TyO+lqHh3f6sBZE6q+77fAq6",
      "include_colab_link": true
    },
    "kernelspec": {
      "name": "python3",
      "display_name": "Python 3"
    },
    "language_info": {
      "name": "python"
    }
  },
  "cells": [
    {
      "cell_type": "markdown",
      "metadata": {
        "id": "view-in-github",
        "colab_type": "text"
      },
      "source": [
        "<a href=\"https://colab.research.google.com/github/JosueAripez/Lenguaje-de-Python/blob/main/JFRA_Act_1ipynb.ipynb\" target=\"_parent\"><img src=\"https://colab.research.google.com/assets/colab-badge.svg\" alt=\"Open In Colab\"/></a>"
      ]
    },
    {
      "cell_type": "markdown",
      "source": [
        "# 1.- Programa en Python Mostrar un mensaje que diga “HOLA MUNDO” en un solo renglón usando 2 print\n"
      ],
      "metadata": {
        "id": "pwFlGakV3dCC"
      }
    },
    {
      "cell_type": "code",
      "source": [
        "print(\"Hola\",\"Mundo\")"
      ],
      "metadata": {
        "colab": {
          "base_uri": "https://localhost:8080/"
        },
        "id": "MKaEIeqc3lLG",
        "outputId": "14228667-6233-4c4e-8e28-b359735cff8d"
      },
      "execution_count": 1,
      "outputs": [
        {
          "output_type": "stream",
          "name": "stdout",
          "text": [
            "Hola Mundo\n"
          ]
        }
      ]
    },
    {
      "cell_type": "markdown",
      "source": [
        "# 2.- Programa en Python que lea 2 números, realizar la suma y desplegar la suma de los 2 números"
      ],
      "metadata": {
        "id": "YA9avcL23x45"
      }
    },
    {
      "cell_type": "code",
      "source": [
        "num1 = input(\"Ingrese un numero \")\n",
        "num2 = input(\"Ingrese otro numero \")\n",
        "\n",
        "suma = num1+num2\n",
        "\n",
        "print(\"El resultado es \",suma)\n"
      ],
      "metadata": {
        "colab": {
          "base_uri": "https://localhost:8080/"
        },
        "id": "_j5x1SK_33pL",
        "outputId": "15c236ab-601a-44e8-f3cb-15f326f02b60"
      },
      "execution_count": 6,
      "outputs": [
        {
          "output_type": "stream",
          "name": "stdout",
          "text": [
            "Ingrese un numero 7\n",
            "Ingrese otro numero 7\n",
            "El resultado es  77\n"
          ]
        }
      ]
    }
  ]
}