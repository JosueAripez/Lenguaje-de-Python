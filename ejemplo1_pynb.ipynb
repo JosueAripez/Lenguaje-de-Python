{
  "nbformat": 4,
  "nbformat_minor": 0,
  "metadata": {
    "colab": {
      "provenance": [],
      "authorship_tag": "ABX9TyODwXRjq6fAt21TsYnWQhjg",
      "include_colab_link": true
    },
    "kernelspec": {
      "name": "python3",
      "display_name": "Python 3"
    },
    "language_info": {
      "name": "python"
    }
  },
  "cells": [
    {
      "cell_type": "markdown",
      "metadata": {
        "id": "view-in-github",
        "colab_type": "text"
      },
      "source": [
        "<a href=\"https://colab.research.google.com/github/JosueAripez/Lenguaje-de-Python/blob/main/ejemplo1_pynb.ipynb\" target=\"_parent\"><img src=\"https://colab.research.google.com/assets/colab-badge.svg\" alt=\"Open In Colab\"/></a>"
      ]
    },
    {
      "cell_type": "markdown",
      "source": [
        "#**Mi primer programa en Python con colaboratory** \n",
        "\n",
        "\n",
        "1.-Usar colaboratory\n",
        "\n",
        "2.-Git hub\n",
        "\n",
        "3.-La sentencia de salida print\n"
      ],
      "metadata": {
        "id": "31szSHaay4tb"
      }
    },
    {
      "cell_type": "code",
      "execution_count": 1,
      "metadata": {
        "id": "jjDLyTVmxjqB",
        "colab": {
          "base_uri": "https://localhost:8080/"
        },
        "outputId": "965b45a0-1993-4d29-c2bb-81f2ea219c93"
      },
      "outputs": [
        {
          "output_type": "stream",
          "name": "stdout",
          "text": [
            "Hola Mundo\n"
          ]
        }
      ],
      "source": [
        "print(\"Hola Mundo\")"
      ]
    },
    {
      "cell_type": "code",
      "source": [
        "print(\"Josue Aripez\")"
      ],
      "metadata": {
        "colab": {
          "base_uri": "https://localhost:8080/"
        },
        "id": "CnyBJKqv0G6l",
        "outputId": "b7023303-b902-482f-8b4e-7f8500f25bd5"
      },
      "execution_count": 3,
      "outputs": [
        {
          "output_type": "stream",
          "name": "stdout",
          "text": [
            "Josue Aripez\n"
          ]
        }
      ]
    }
  ]
}