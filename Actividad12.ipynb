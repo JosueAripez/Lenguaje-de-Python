{
  "nbformat": 4,
  "nbformat_minor": 0,
  "metadata": {
    "colab": {
      "provenance": [],
      "mount_file_id": "16IkyjfPrnx2BaOp-H_Pxt0etrNbwJmCw",
      "authorship_tag": "ABX9TyNvIbvtI/KOYD/SngTdduqF",
      "include_colab_link": true
    },
    "kernelspec": {
      "name": "python3",
      "display_name": "Python 3"
    },
    "language_info": {
      "name": "python"
    }
  },
  "cells": [
    {
      "cell_type": "markdown",
      "metadata": {
        "id": "view-in-github",
        "colab_type": "text"
      },
      "source": [
        "<a href=\"https://colab.research.google.com/github/JosueAripez/Lenguaje-de-Python/blob/main/Actividad12.ipynb\" target=\"_parent\"><img src=\"https://colab.research.google.com/assets/colab-badge.svg\" alt=\"Open In Colab\"/></a>"
      ]
    },
    {
      "cell_type": "markdown",
      "source": [
        "# **MAIN**"
      ],
      "metadata": {
        "id": "6SqBQ52PI1Df"
      }
    },
    {
      "cell_type": "code",
      "source": [
        "!pip install pyyaml\n",
        "\n",
        "import sys\n",
        "import os\n",
        "from IPython.display import clear_output\n",
        "import random\n",
        "import json\n",
        "import yaml\n",
        "import pandas as pd\n",
        "\n",
        "from google.colab import drive\n",
        "drive.mount('/content/drive')\n",
        "\n",
        "ruta='/content/drive/MyDrive/Python_Colab'\n",
        "\n",
        "import sys\n",
        "sys.path.append(ruta)"
      ],
      "metadata": {
        "colab": {
          "base_uri": "https://localhost:8080/"
        },
        "id": "qxY-XLBIJles",
        "outputId": "d12bc1d0-574c-4efd-b551-ff514f4e523f"
      },
      "execution_count": 57,
      "outputs": [
        {
          "output_type": "stream",
          "name": "stdout",
          "text": [
            "Looking in indexes: https://pypi.org/simple, https://us-python.pkg.dev/colab-wheels/public/simple/\n",
            "Requirement already satisfied: pyyaml in /usr/local/lib/python3.10/dist-packages (6.0)\n",
            "Drive already mounted at /content/drive; to attempt to forcibly remount, call drive.mount(\"/content/drive\", force_remount=True).\n"
          ]
        }
      ]
    },
    {
      "cell_type": "code",
      "source": [
        "def Vali_Num(msge,msgError2=\"Error, intenta de uevo\"):\n",
        "    while True:\n",
        "        try:\n",
        "            num = int(input(f\"{msge}\"))\n",
        "        except:\n",
        "            print (msgError2)\n",
        "            continue\n",
        "        else:\n",
        "            break\n",
        "    return num"
      ],
      "metadata": {
        "id": "zrqespD5KcZK"
      },
      "execution_count": 58,
      "outputs": []
    },
    {
      "cell_type": "markdown",
      "source": [
        "# **PROGRAMA**"
      ],
      "metadata": {
        "id": "f-VEIg8QKflo"
      }
    },
    {
      "cell_type": "code",
      "source": [
        "def agregar_aut(lista_dic):\n",
        "    clear_output()\n",
        "    registro = [\"ID\",\"Nombre\",\"Ap.Paterno\",\"Ap.Materno\",\"Cargo\",\"Sexo\"]\n",
        "    nombre_h= [\"Josue\",\"Francisco\", \"Daniel\",\"Leonardo\",\"Gael\",\"Ricardo\",\"Isaac\"]\n",
        "    nombre_m= [\"Brisa\",\"Fernanda\",\"Blanca\",\"Estela\",\"Julia\",\"Jessica\",\"Jazmin\"]\n",
        "    apellidos= [\"Rojas\", \"Aripez\", \"Bañuelos\", \"Escamilla\", \"Leyva\",\"Jacobo\",\"Herandez\",\"Ybarra\",\"Robins\", \"Trujillo\"]\n",
        "    puesto= [\"Supervisor\",\"Tecnico\",\"Ingeniero\",\"Gerente\",\"Director\",\"Operador\",\"Asociado\"]\n",
        "    sexo=[\"H\",\"M\"]\n",
        "    for i in range(10):\n",
        "        lista_datos=[]\n",
        "        repetido = False\n",
        "        while repetido == False:\n",
        "            clear_output()\n",
        "            id = random.randint(300000,400000)\n",
        "            repetido = verificar_id(lista_dic,id)\n",
        "        lista_datos.append(id)\n",
        "        h_o_m =random.randint(1,2)\n",
        "        cant_nom = random.randint(1,2)\n",
        "        if h_o_m == 1:\n",
        "            if cant_nom == 1:\n",
        "                lista_datos.append(random.choice(nombre_h))\n",
        "            else:\n",
        "                nombre = f\"{random.choice(nombre_h)} {random.choice(nombre_h)}\"\n",
        "                lista_datos.append(nombre)\n",
        "        else:\n",
        "            if cant_nom == 1:\n",
        "                lista_datos.append(random.choice(nombre_m))\n",
        "            else:\n",
        "                nombre = f\"{random.choice(nombre_m)} {random.choice(nombre_m)}\"\n",
        "                lista_datos.append(nombre)\n",
        "        lista_datos.append(random.choice(apellidos))\n",
        "        lista_datos.append(random.choice(apellidos))\n",
        "        lista_datos.append(random.choice(puesto))\n",
        "        if h_o_m == 1:\n",
        "            lista_datos.append(sexo[0])\n",
        "        else:\n",
        "            lista_datos.append(sexo[1])\n",
        "        lista_dic.append(dict(zip(registro,lista_datos)))"
      ],
      "metadata": {
        "id": "YYBVPwlJKjzj"
      },
      "execution_count": 59,
      "outputs": []
    },
    {
      "cell_type": "code",
      "source": [
        "def eliminar(lista_dic):\n",
        "    clear_output()\n",
        "    encontrado = False\n",
        "    id_eliminar = Vali_Num(\"Ingresa el ID a eliminar \")\n",
        "    for i, diccionario in enumerate(lista_dic):\n",
        "        if diccionario.get(\"ID\") == id_eliminar:\n",
        "            print(\"ID elimnado correctamente\")\n",
        "            del lista_dic[i]\n",
        "            encontrado = True\n",
        "    if not encontrado:\n",
        "        print(\"No se encontro el ID\")"
      ],
      "metadata": {
        "id": "KOk-9AvTKm6O"
      },
      "execution_count": 60,
      "outputs": []
    },
    {
      "cell_type": "code",
      "source": [
        "\n",
        "def verificar_id(lista_dic,id):\n",
        "    for diccionario in lista_dic:\n",
        "        if diccionario.get(\"ID\") == id:\n",
        "            print(\"ID existente\")\n",
        "            return False\n",
        "    return True"
      ],
      "metadata": {
        "id": "tKElqyUJKod1"
      },
      "execution_count": 61,
      "outputs": []
    },
    {
      "cell_type": "code",
      "source": [
        "def imprimir(lista_dic,check_ord):\n",
        "    clear_output()\n",
        "    op = random.randint(1,3)\n",
        "    lista_ord = sorted(lista_dic, key=lambda x: x[\"ID\"])\n",
        "    if check_ord == 1:\n",
        "        salida=pd.DataFrame(lista_ord)\n",
        "        print(salida)\n",
        "    else:\n",
        "        salida=pd.DataFrame(lista_dic)\n",
        "        print(salida)"
      ],
      "metadata": {
        "id": "sLCSBVuOKp7G"
      },
      "execution_count": 62,
      "outputs": []
    },
    {
      "cell_type": "code",
      "source": [
        "def ordenar_dic(lista_dic,check_ord):\n",
        "    clear_output()\n",
        "    if check_ord == 1:\n",
        "        print(\"Lista ya ordenada anteriormente\")\n",
        "    else:\n",
        "        print(\"Lista ordenada\")\n",
        "        return 1"
      ],
      "metadata": {
        "id": "vn8YdI7lKryC"
      },
      "execution_count": 63,
      "outputs": []
    },
    {
      "cell_type": "code",
      "source": [
        "def buscar(lista_dic):\n",
        "    clear_output()\n",
        "    dic_encontrado = []\n",
        "    encontrado = False\n",
        "    id_busq = Vali_Num(\"Ingresa el ID a buscar: \",300000,400000)\n",
        "    for diccionario in lista_dic:\n",
        "        if diccionario.get(\"ID\") == id_busq:\n",
        "            print(f\"ID encontrado: {id_busq}\")\n",
        "            dic_encontrado.append(diccionario)\n",
        "            salida=pd.DataFrame(dic_encontrado)\n",
        "            print(salida)\n",
        "            encontrado = True\n",
        "    if not encontrado:\n",
        "        print(\"No se encontro el ID\")"
      ],
      "metadata": {
        "id": "j9DwJeQUKtVP"
      },
      "execution_count": 64,
      "outputs": []
    },
    {
      "cell_type": "code",
      "source": [
        "def buscar_appat(lista_dic):\n",
        "    clear_output()\n",
        "    dic_encontrado = []\n",
        "    encontrado = False\n",
        "    appat_busq = input(\"Apellido a buscar: \")\n",
        "    for diccionario in lista_dic:\n",
        "        if diccionario.get(\"Ap.Paterno\") == appat_busq:\n",
        "            dic_encontrado.append(diccionario)\n",
        "            encontrado = True\n",
        "    if encontrado == True:\n",
        "        print(f\"Coincidencias con el apellido: {appat_busq}\")\n",
        "        salida=pd.DataFrame(dic_encontrado)\n",
        "        print(salida)\n",
        "    if not encontrado:\n",
        "        print(f\"Sin coincidencias con el apellido {appat_busq}\")"
      ],
      "metadata": {
        "id": "XEDeF50kKvV0"
      },
      "execution_count": 65,
      "outputs": []
    },
    {
      "cell_type": "code",
      "source": [
        "def generar_archivo(lista_dic):\n",
        "    clear_output()\n",
        "    nombre_archivo = input(\"Ingresa el nombre del archivo a guardar: \")\n",
        "    data = pd.DataFrame(lista_dic)\n",
        "    data.to_excel(f'/content/drive/MyDrive/Python_Colab/{nombre_archivo}.xlsx', index=False)\n",
        "    #data.to_txt(f'/content/drive/MyDrive/Python_Colab/{nombre_archivo}.txt', index=False)\n",
        "    data.to_csv(f'/content/drive/MyDrive/Python_Colab/{nombre_archivo}.csv', index=False)\n",
        "    data.to_markdown(f'/content/drive/MyDrive/Python_Colab/{nombre_archivo}.md', index=False)"
      ],
      "metadata": {
        "id": "VPa2AC8sKxrd"
      },
      "execution_count": 66,
      "outputs": []
    },
    {
      "cell_type": "code",
      "source": [
        "def cargar_archivo():\n",
        "    clear_output()\n",
        "    path = \"/content/drive/MyDrive/proyecto/holamundo.txt\"\n",
        "    with open(path, \"r\") as f:\n",
        "        contenido = f.read()\n",
        "    print(\"Archivo cargado\")\n",
        "    return contenido"
      ],
      "metadata": {
        "id": "Jv1nF5fTLMjW"
      },
      "execution_count": 67,
      "outputs": []
    },
    {
      "cell_type": "code",
      "source": [
        "def imprimir_archivo(contenido):\n",
        "    clear_output()\n",
        "    print(\"Contenido: \")\n",
        "    print(contenido)"
      ],
      "metadata": {
        "id": "fm_jL6AlLRKs"
      },
      "execution_count": 68,
      "outputs": []
    },
    {
      "cell_type": "code",
      "source": [
        "\n",
        "def menu():\n",
        "    \n",
        "    print(\"--------------------MENU--------------------\")\n",
        "    print(\"1.- Agregar (Automatico 10)\")\n",
        "    print(\"2.- Eliminar {ID}\")\n",
        "    print(\"3.- Imprimir lista (Tabla)\")\n",
        "    print(\"4.- Buscar {ID}\")\n",
        "    print(\"5.- Buscar {appat} todas las coincidencias\")\n",
        "    print(\"6.- Ordenar {ID}\")\n",
        "    print(\"7.- Generar archivo {ID}\")\n",
        "    print(\"8.- Cargar archivo {ID}\")\n",
        "    print(\"9.- Imprimir archivo {ID}\")\n",
        "    print(\"10.- Borrar Toda la lista {ID}\")\n",
        "    print(\"0.- Salir\")"
      ],
      "metadata": {
        "id": "FbMT4uvrLSy8"
      },
      "execution_count": 69,
      "outputs": []
    },
    {
      "cell_type": "code",
      "source": [
        "lista_dic =[]\n",
        "check_ord = 0\n",
        "while True:\n",
        "    menu()\n",
        "    op = Vali_Num(\"Ingresa un numero segun lo que deseas hacer \")\n",
        "    if op == 1:\n",
        "        agregar_aut(lista_dic)\n",
        "        check_ord = 0\n",
        "        print(\"Registros agregados\")\n",
        "        input(\"Enter para borrar\")\n",
        "        clear_output()\n",
        "        continue\n",
        "    elif op == 2:\n",
        "        eliminar(lista_dic)\n",
        "        input(\"Enter para borrar\")\n",
        "        clear_output()\n",
        "        continue\n",
        "    elif op == 3:\n",
        "        imprimir(lista_dic,check_ord)\n",
        "        input(\"Enter para borrar\")\n",
        "        clear_output()\n",
        "        continue\n",
        "    elif op == 4:\n",
        "        buscar(lista_dic)\n",
        "        input(\"Enter para borrar\")\n",
        "        clear_output()\n",
        "        continue\n",
        "    elif op == 5:\n",
        "        buscar_appat(lista_dic)\n",
        "        input(\"Enter para borrar\")\n",
        "        clear_output()\n",
        "        continue\n",
        "    elif op == 6:\n",
        "        check_ord = ordenar_dic(lista_dic,check_ord)\n",
        "        input(\"Enter para borrar\")\n",
        "        clear_output()\n",
        "        continue\n",
        "    elif op == 7:\n",
        "        generar_archivo(lista_dic)\n",
        "        input(\"Enter para borrar\")\n",
        "        clear_output()\n",
        "        continue\n",
        "    elif op == 8:\n",
        "        contenido_arch = cargar_archivo()\n",
        "        input(\"Enter para borrar\")\n",
        "        clear_output()\n",
        "        continue\n",
        "    elif op == 9:\n",
        "        imprimir_archivo(contenido_arch)\n",
        "        input(\"Enter para borrar\")\n",
        "        clear_output()\n",
        "        continue\n",
        "    elif op == 10:\n",
        "        lista_dic = []\n",
        "    elif op == 0:\n",
        "        break"
      ],
      "metadata": {
        "colab": {
          "base_uri": "https://localhost:8080/"
        },
        "id": "ITuAIycrLUXw",
        "outputId": "15d87220-4ec1-45af-cd3e-9310d04ad7a6"
      },
      "execution_count": 70,
      "outputs": [
        {
          "name": "stdout",
          "output_type": "stream",
          "text": [
            "--------------------MENU--------------------\n",
            "1.- Agregar (Automatico 10)\n",
            "2.- Eliminar {ID}\n",
            "3.- Imprimir lista (Tabla)\n",
            "4.- Buscar {ID}\n",
            "5.- Buscar {appat} todas las coincidencias\n",
            "6.- Ordenar {ID}\n",
            "7.- Generar archivo {ID}\n",
            "8.- Cargar archivo {ID}\n",
            "9.- Imprimir archivo {ID}\n",
            "10.- Borrar Toda la lista {ID}\n",
            "0.- Salir\n",
            "Ingresa un numero segun lo que deseas hacer 0\n"
          ]
        }
      ]
    }
  ]
}