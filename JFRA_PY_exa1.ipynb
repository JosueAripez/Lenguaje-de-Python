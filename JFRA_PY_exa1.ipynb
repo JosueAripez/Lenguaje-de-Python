{
  "nbformat": 4,
  "nbformat_minor": 0,
  "metadata": {
    "colab": {
      "provenance": [],
      "authorship_tag": "ABX9TyOaWnwgYKrQUYCz9TsnLLod",
      "include_colab_link": true
    },
    "kernelspec": {
      "name": "python3",
      "display_name": "Python 3"
    },
    "language_info": {
      "name": "python"
    }
  },
  "cells": [
    {
      "cell_type": "markdown",
      "metadata": {
        "id": "view-in-github",
        "colab_type": "text"
      },
      "source": [
        "<a href=\"https://colab.research.google.com/github/JosueAripez/Lenguaje-de-Python/blob/main/JFRA_PY_exa1.ipynb\" target=\"_parent\"><img src=\"https://colab.research.google.com/assets/colab-badge.svg\" alt=\"Open In Colab\"/></a>"
      ]
    },
    {
      "cell_type": "markdown",
      "source": [
        "Escribe una funcion de Python en collaboratory que realice lo siguiente:\n",
        "\n",
        "funcion que retorne el resultado del area de un triangulo\n",
        "\n",
        "Escribir codigo que mande llamar la funcion y desplegar el resultado,\n",
        "\n",
        "VALIDAR da tos entrada**"
      ],
      "metadata": {
        "id": "om0uVITBs8Oj"
      }
    },
    {
      "cell_type": "code",
      "source": [
        "def triangulo():\n",
        "  try:\n",
        "    \n",
        "    base = float(input(\"Ingresa la base del triangulo: \"))\n",
        "    altura = float(input(\"Ingresa la altura del triangulo: \"))\n",
        "\n",
        "    area = (base * altura) / 2\n",
        "\n",
        "    print(\"El area del triangulo es: \", area)\n",
        "\n",
        "  except:\n",
        "    print(\"Debes ingresar numeros\")"
      ],
      "metadata": {
        "id": "y0KraCiMsHPw"
      },
      "execution_count": 10,
      "outputs": []
    },
    {
      "cell_type": "code",
      "source": [
        "triangulo()"
      ],
      "metadata": {
        "colab": {
          "base_uri": "https://localhost:8080/"
        },
        "id": "0-nd7yaSthAu",
        "outputId": "8ca36b9a-8ec5-4788-81cc-7e1ed5120eb2"
      },
      "execution_count": 15,
      "outputs": [
        {
          "output_type": "stream",
          "name": "stdout",
          "text": [
            "Ingresa la base del triangulo: 10\n",
            "Ingresa la altura del triangulo: 10\n",
            "El area del triangulo es:  50.0\n"
          ]
        }
      ]
    },
    {
      "cell_type": "markdown",
      "source": [
        "Escribe una funcion de Python en collaboratory que realice lo siguiente:\n",
        "\n",
        "funcion que retorne un numero dentro de un rango dado, validar el numero que cumpla el requisito del rango, la funcion debera validar que el programa no marque error por introducir informacion erronea (usar try except)\n",
        "\n",
        "Escribir codigo que mande llamar la funcion y desplegar el resultado,"
      ],
      "metadata": {
        "id": "Dzqdw103uKEK"
      }
    },
    {
      "cell_type": "code",
      "source": [
        "def num():\n",
        "  try:\n",
        "      num = int(input(\"Ingresa un numero entre el 0 y el 9: \"))\n",
        "\n",
        "      if num >= 0 and num <= 9:\n",
        "        print(f\"{num}\")\n",
        "      else:\n",
        "        print(\"Intente de nuevo\")\n",
        "  except:\n",
        "    print(\"ERROR\")"
      ],
      "metadata": {
        "id": "-upCJztiuLQ3"
      },
      "execution_count": 20,
      "outputs": []
    },
    {
      "cell_type": "code",
      "source": [
        "num()"
      ],
      "metadata": {
        "colab": {
          "base_uri": "https://localhost:8080/"
        },
        "id": "AjCj4ukSwAx_",
        "outputId": "641efe49-b221-44ba-bc9e-f0834bebf156"
      },
      "execution_count": 21,
      "outputs": [
        {
          "output_type": "stream",
          "name": "stdout",
          "text": [
            "Ingresa un numero entre el 0 y el 9: 0\n",
            "0\n"
          ]
        }
      ]
    }
  ]
}