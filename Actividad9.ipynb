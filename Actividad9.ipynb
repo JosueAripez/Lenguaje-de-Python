{
  "nbformat": 4,
  "nbformat_minor": 0,
  "metadata": {
    "colab": {
      "provenance": [],
      "authorship_tag": "ABX9TyOJGFKY1sKNZly4tO7SrdKr",
      "include_colab_link": true
    },
    "kernelspec": {
      "name": "python3",
      "display_name": "Python 3"
    },
    "language_info": {
      "name": "python"
    }
  },
  "cells": [
    {
      "cell_type": "markdown",
      "metadata": {
        "id": "view-in-github",
        "colab_type": "text"
      },
      "source": [
        "<a href=\"https://colab.research.google.com/github/JosueAripez/Lenguaje-de-Python/blob/main/Actividad9.ipynb\" target=\"_parent\"><img src=\"https://colab.research.google.com/assets/colab-badge.svg\" alt=\"Open In Colab\"/></a>"
      ]
    },
    {
      "cell_type": "markdown",
      "source": [
        "# **MAIN**"
      ],
      "metadata": {
        "id": "Vryd0cWgC_G6"
      }
    },
    {
      "cell_type": "code",
      "execution_count": 42,
      "metadata": {
        "id": "-LP550PhBMna"
      },
      "outputs": [],
      "source": [
        "import random\n",
        "from IPython.display import clear_output"
      ]
    },
    {
      "cell_type": "markdown",
      "source": [
        "# **GENERACION E IMPRESIONDE DE DICCIONARIO**"
      ],
      "metadata": {
        "id": "YlxKfne1DOnw"
      }
    },
    {
      "cell_type": "code",
      "source": [
        "def dc_alm():\n",
        "    \n",
        "    id = [\"Matricula\",\"Nombre\",\"Apellido Paterno\",\"Apellido Materno\",\"Edad\",\"Sexo\"]\n",
        "    \n",
        "    mta = [369718,367805,368979,369410,369116,369111,369271]\n",
        "    \n",
        "    nom = [\"Josue Francisco\",\"Brisa Fernanda\",\"Daniel Isaac\",\"Francisco\",\"Blanca\",\"Gael\",\"Leonardo\"]\n",
        "    \n",
        "    ap = [\"Rojapez\",\"Bañuelos\",\"Leyva\",\"Rojas\",\"Aripez\",\"Jacobo\",\"Hernandez\"]\n",
        "    \n",
        "    am = [\"Arjas\",\"Escamilla\",\"Bustamante\",\"Trujillo\",\"Ybarra\",\"Vega\",\"Ceja\"]\n",
        "    \n",
        "    ed = [20,21,19,20,20,19,19]\n",
        "    \n",
        "    sx = [\"Masculino\",\"Femenino\",\"Masculino\",\"Masculino\",\"Femenino\",\"Masculino\",\"Masculino\"]\n",
        "    \n",
        "    dtrandom = random.randint(0,6)\n",
        "    \n",
        "    dc = dict(zip(id,[mta[dtrandom],nom[dtrandom],ap[dtrandom],am[dtrandom],ed[dtrandom],sx[dtrandom]]))\n",
        "    \n",
        "    print(\"Se creo el diccionario\")\n",
        "    print(\"\")\n",
        "    \n",
        "    return dc"
      ],
      "metadata": {
        "id": "OHDA_DEeDlut"
      },
      "execution_count": 47,
      "outputs": []
    },
    {
      "cell_type": "code",
      "source": [
        "def imprimie_dc(dc):\n",
        "    print(\"{:<20}{}\".format(\"Matricula:\", dc['Matricula']))\n",
        "    print(\"{:<20}{}\".format(\"Nombre:\", dc['Nombre']))\n",
        "    print(\"{:<20}{}\".format(\"Apellido Paterno:\", dc['Apellido Paterno']))\n",
        "    print(\"{:<20}{}\".format(\"Apellido Materno:\", dc['Apellido Materno']))\n",
        "    print(\"{:<20}{}\".format(\"Edad:\", dc['Edad']))\n",
        "    print(\"{:<20}{}\".format(\"Sexo:\", dc['Sexo']))\n",
        "    print(\"\")"
      ],
      "metadata": {
        "id": "YFK_Voygeqze"
      },
      "execution_count": 48,
      "outputs": []
    },
    {
      "cell_type": "markdown",
      "source": [
        "# **MENU Y EJECUCION**"
      ],
      "metadata": {
        "id": "KMfxZUKDDqla"
      }
    },
    {
      "cell_type": "code",
      "source": [
        "def menu():\n",
        "    print(\"----------MENU----------\")\n",
        "    print(\"1.- Generar Diccionario\")\n",
        "    print(\"2.- Imprimir Diccionario\")\n",
        "    print(\"0.- Salir\")"
      ],
      "metadata": {
        "id": "ScZ9hKtwDxPd"
      },
      "execution_count": 49,
      "outputs": []
    },
    {
      "cell_type": "code",
      "source": [
        "while True:\n",
        "    menu()\n",
        "    op = int(input(\"Ingresa un numero segun lo que deseas hacer: \"))\n",
        "    print(\"\")\n",
        "    if op == 1:\n",
        "        dc = dc_alm()\n",
        "        input(\"Enter para borrar\")\n",
        "        clear_output()\n",
        "        continue\n",
        "  \n",
        "    elif op == 2:\n",
        "        imprimie_dc(dc)\n",
        "        input(\"Enter para borrar\")\n",
        "        clear_output()\n",
        "        continue\n",
        "   \n",
        "    elif op == 0:\n",
        "        break"
      ],
      "metadata": {
        "colab": {
          "base_uri": "https://localhost:8080/"
        },
        "id": "_isi6C1HD6tq",
        "outputId": "fa47425f-330d-4493-c2d6-c25ba889547f"
      },
      "execution_count": 50,
      "outputs": [
        {
          "output_type": "stream",
          "name": "stdout",
          "text": [
            "----------MENU----------\n",
            "1.- Generar Diccionario\n",
            "2.- Imprimir Diccionario\n",
            "0.- Salir\n",
            "Ingresa un numero segun lo que deseas hacer: 0\n",
            "\n"
          ]
        }
      ]
    }
  ]
}